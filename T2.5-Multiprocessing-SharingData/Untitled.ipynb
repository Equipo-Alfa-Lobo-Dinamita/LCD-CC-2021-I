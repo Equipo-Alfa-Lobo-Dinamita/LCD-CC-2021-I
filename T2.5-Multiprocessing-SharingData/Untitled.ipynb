{
 "cells": [
  {
   "cell_type": "markdown",
   "metadata": {},
   "source": [
    "# Multiprocessing\n",
    "\n",
    "## Proceso como objeto\n",
    "\n",
    "En el siguiente ejemplo se muestra cómo crear un proceso por medio de la definición de la clase `MyProcess` que hereda de la clase base `multiprocessing.Process`. La clase creada incluye un constructor y un método `run`."
   ]
  },
  {
   "cell_type": "code",
   "execution_count": 2,
   "metadata": {
    "ExecuteTime": {
     "end_time": "2020-11-05T18:44:51.871791Z",
     "start_time": "2020-11-05T18:44:51.838030Z"
    }
   },
   "outputs": [
    {
     "name": "stdout",
     "output_type": "stream",
     "text": [
      "Main Process PID: 437932\n",
      "Child Process: 441664\n"
     ]
    }
   ],
   "source": [
    "import multiprocessing\n",
    "\n",
    "class MyProcess(multiprocessing.Process):\n",
    "    def __init__(self):\n",
    "        super(MyProcess,self).__init__()\n",
    "        \n",
    "    def run(self):\n",
    "        print(\"Child Process: {}\".format(multiprocessing.current_process().pid))\n",
    "\n",
    "def main():\n",
    "    print(\"Main Process PID: {}\".format(multiprocessing.current_process().pid))\n",
    "    myProcess = MyProcess()\n",
    "    myProcess.start()\n",
    "    myProcess.join()\n",
    "main()"
   ]
  },
  {
   "cell_type": "markdown",
   "metadata": {},
   "source": [
    "## Comunicación entre procesos\n",
    "Consideremos el siguiente ejemplo donde el proceso padre quiere consultar el resultado de una operación que ejecutó el proceso hijo:"
   ]
  },
  {
   "cell_type": "code",
   "execution_count": 3,
   "metadata": {
    "ExecuteTime": {
     "end_time": "2020-11-05T18:45:45.667008Z",
     "start_time": "2020-11-05T18:45:45.662601Z"
    }
   },
   "outputs": [],
   "source": [
    "import multiprocessing as mp\n",
    "import time\n",
    "import os"
   ]
  },
  {
   "cell_type": "code",
   "execution_count": 6,
   "metadata": {
    "ExecuteTime": {
     "end_time": "2020-11-05T18:48:57.464109Z",
     "start_time": "2020-11-05T18:48:57.353134Z"
    }
   },
   "outputs": [
    {
     "name": "stdout",
     "output_type": "stream",
     "text": [
      "cuadrado: 0\n",
      "cuadrado: 1\n",
      "cuadrado: 4\n",
      "cuadrado: 9\n",
      "cuadrado: 16\n",
      "cuadrado: 25\n",
      "cuadrado: 36\n",
      "cuadrado: 49\n",
      "cuadrado: 64\n",
      "cuadrado: 81\n",
      "Tiempo de ejecución: 0.09141945838928223\n",
      "Resultado del proceso: []\n",
      "Finaliza ejecución\n"
     ]
    }
   ],
   "source": [
    "num_res = []\n",
    "\n",
    "\n",
    "def calc_cuad(numeros):\n",
    "    global num_res\n",
    "    for n in numeros:\n",
    "        print('cuadrado:', n**2)\n",
    "        num_res.append(n*n)\n",
    "\n",
    "\n",
    "nums = range(10)\n",
    "\n",
    "t = time.time()\n",
    "p1 = mp.Process(target=calc_cuad, args=(nums,))\n",
    "\n",
    "\n",
    "p1.start()\n",
    "p1.join()\n",
    "\n",
    "print('Tiempo de ejecución:', time.time()-t)\n",
    "print('Resultado del proceso:', num_res)\n",
    "print('Finaliza ejecución')"
   ]
  },
  {
   "cell_type": "markdown",
   "metadata": {},
   "source": [
    "Los procesos tienen su propio espacio de memoria. Así, las variables del programa no se comparten entre procesos. Es necesario crear comunicación entre procesos (ICP).\n"
   ]
  },
  {
   "cell_type": "markdown",
   "metadata": {},
   "source": [
    "## Memoria compartida\n",
    "Cuando se realiza una programación concurrente, generalmente es mejor evitar el uso de recursos compartidos en la medida de lo posible. Esto es particularmente cierto cuando se utilizan múltiples procesos. Sin embargo, si se necesita utilizar algunos datos compartidos, el multiprocesamiento proporciona un medio para hacerlo.\n",
    "\n"
   ]
  },
  {
   "cell_type": "markdown",
   "metadata": {},
   "source": [
    "Los datos se pueden almacenar en un mapa de memoria compartida usando `Array` o `Value`."
   ]
  },
  {
   "cell_type": "code",
   "execution_count": 7,
   "metadata": {
    "ExecuteTime": {
     "end_time": "2020-11-05T18:54:54.687800Z",
     "start_time": "2020-11-05T18:54:54.682564Z"
    }
   },
   "outputs": [
    {
     "name": "stdout",
     "output_type": "stream",
     "text": [
      "0 3\n",
      "1 4\n",
      "2 5\n"
     ]
    }
   ],
   "source": [
    "# Sugar syntax\n",
    "nums = [3,4,5]\n",
    "for idx, i in enumerate(nums):\n",
    "    print(idx, i)"
   ]
  },
  {
   "cell_type": "code",
   "execution_count": 8,
   "metadata": {
    "ExecuteTime": {
     "end_time": "2020-11-05T18:55:15.206714Z",
     "start_time": "2020-11-05T18:55:15.190039Z"
    }
   },
   "outputs": [
    {
     "name": "stdout",
     "output_type": "stream",
     "text": [
      "0 0\n",
      "1 1\n",
      "2 2\n",
      "3 3\n"
     ]
    }
   ],
   "source": [
    "nums = range(4)\n",
    "for idx, i in enumerate(nums):\n",
    "    print(idx, i)"
   ]
  },
  {
   "cell_type": "markdown",
   "metadata": {
    "ExecuteTime": {
     "end_time": "2020-11-05T18:56:09.586309Z",
     "start_time": "2020-11-05T18:56:09.557585Z"
    }
   },
   "source": [
    "Se pueden compartir datos del proceso hijo al proceso padre por medio del método `Array` de multiprocessing."
   ]
  },
  {
   "cell_type": "code",
   "execution_count": 15,
   "metadata": {
    "ExecuteTime": {
     "end_time": "2020-11-05T19:01:59.064969Z",
     "start_time": "2020-11-05T19:01:58.999807Z"
    }
   },
   "outputs": [
    {
     "name": "stdout",
     "output_type": "stream",
     "text": [
      "[0, 0, 0, 0, 0, 0, 0, 0, 0, 0]\n",
      "Resultado del proceso: [0, 1, 4, 9, 16, 25, 36, 49, 64, 81]\n",
      "Resultado fuera del proceso: [0, 1, 4, 9, 16, 25, 36, 49, 64, 81]\n",
      "Tiempo de ejecución: 0.04576921463012695\n",
      "Finaliza ejecución\n"
     ]
    }
   ],
   "source": [
    "def calc_cuad(numeros,result):\n",
    "    for idx, n in enumerate(numeros):\n",
    "        result[idx] = n*n\n",
    "    print('Resultado del proceso:', result[:])\n",
    "        \n",
    "nums = range(10)\n",
    "\n",
    "t = time.time()\n",
    "result = mp.Array('i',10) #(integers, 10 elementos)\n",
    "print(list(result))\n",
    "p1 = mp.Process(target=calc_cuad, args=(nums,result))\n",
    "\n",
    "p1.start()\n",
    "p1.join()\n",
    "\n",
    "print('Resultado fuera del proceso:', result[:])\n",
    "\n",
    "print('Tiempo de ejecución:', time.time()-t)\n",
    "print('Finaliza ejecución')\n"
   ]
  },
  {
   "cell_type": "markdown",
   "metadata": {},
   "source": [
    "Tambien es podible compartir valores unitarios del proceso hijo al proceso padre por medio del método `Value`."
   ]
  },
  {
   "cell_type": "code",
   "execution_count": 18,
   "metadata": {
    "ExecuteTime": {
     "end_time": "2020-11-05T19:08:26.569313Z",
     "start_time": "2020-11-05T19:08:26.502416Z"
    }
   },
   "outputs": [
    {
     "name": "stdout",
     "output_type": "stream",
     "text": [
      "[0, 0, 0, 0, 0, 0, 0, 0, 0, 0]\n",
      "Resultado del proceso: [0, 1, 4, 9, 16, 25, 36, 49, 64, 81]\n",
      "Resultado fuera del proceso: [0, 1, 4, 9, 16, 25, 36, 49, 64, 81]\n",
      "Resultado fuera del proceso: 5.35\n",
      "Tiempo de ejecución: 0.042021751403808594\n",
      "Finaliza ejecución\n"
     ]
    }
   ],
   "source": [
    "def calc_cuad(numeros,result,val):\n",
    "    \n",
    "    val.value = 5.35\n",
    "    for idx, n in enumerate(numeros):\n",
    "        result[idx] = n*n\n",
    "    print('Resultado del proceso:', result[:])\n",
    "        \n",
    "nums = range(10)\n",
    "\n",
    "t = time.time()\n",
    "result = mp.Array('i',10) #(integers, 10 elementos)\n",
    "val = mp.Value('d',0.0) #(float, vale 0)\n",
    "\n",
    "print(list(result))\n",
    "p1 = mp.Process(target=calc_cuad, args=(nums,result,val))\n",
    "\n",
    "p1.start()\n",
    "p1.join()\n",
    "\n",
    "print('Resultado fuera del proceso:', result[:])\n",
    "print('Resultado fuera del proceso:', val.value)\n",
    "print('Tiempo de ejecución:', time.time()-t)\n",
    "print('Finaliza ejecución')"
   ]
  },
  {
   "cell_type": "markdown",
   "metadata": {},
   "source": [
    "\n",
    "## Pipes"
   ]
  },
  {
   "cell_type": "code",
   "execution_count": 22,
   "metadata": {
    "ExecuteTime": {
     "end_time": "2020-11-05T19:11:00.192374Z",
     "start_time": "2020-11-05T19:11:00.173099Z"
    }
   },
   "outputs": [
    {
     "name": "stdout",
     "output_type": "stream",
     "text": [
      "['Hello world']\n"
     ]
    }
   ],
   "source": [
    "from multiprocessing import Pipe, Process\n",
    "\n",
    "def f(conn):\n",
    "    conn.send(['Hello world'])\n",
    "    conn.close()\n",
    "    \n",
    "if __name__ == '__main__':\n",
    "    parent_conn, child_conn = Pipe()\n",
    "    p = Process(target=f, args=(child_conn,))\n",
    "    p.start()\n",
    "    print(parent_conn.recv())\n",
    "    p.join()"
   ]
  },
  {
   "cell_type": "markdown",
   "metadata": {},
   "source": [
    "`Pipe()` devuelve dos objetos de conexión que representan los dos extremos de la tubería. Cada objeto de conexión tiene métodos `send()` y `recv()`. Aquí creamos un proceso que imprime `Hola mundo` de cadena y entonces comparte los datos."
   ]
  },
  {
   "cell_type": "code",
   "execution_count": 23,
   "metadata": {
    "ExecuteTime": {
     "end_time": "2020-11-05T19:16:17.275757Z",
     "start_time": "2020-11-05T19:16:17.240498Z"
    }
   },
   "outputs": [
    {
     "name": "stdout",
     "output_type": "stream",
     "text": [
      "sent from main process\n",
      "sent from child process\n"
     ]
    }
   ],
   "source": [
    "from multiprocessing import Pipe, Process\n",
    "\n",
    "def worker(conn):\n",
    "    print(conn.recv())\n",
    "    conn.send('sent from child process')\n",
    "    conn.close()\n",
    "    \n",
    "conn1, conn2 = Pipe()\n",
    "process = Process(target=worker, args=(conn2,))\n",
    "process.start()\n",
    "\n",
    "conn1.send('sent from main process')\n",
    "print(conn1.recv())\n",
    "process.join()\n"
   ]
  },
  {
   "cell_type": "markdown",
   "metadata": {},
   "source": [
    "Ejercicio: Extiende el código para que dos procesos escriban al padre cada uno, una cadena de caracteres."
   ]
  },
  {
   "cell_type": "code",
   "execution_count": 43,
   "metadata": {
    "ExecuteTime": {
     "end_time": "2020-11-05T19:50:27.338379Z",
     "start_time": "2020-11-05T19:50:27.266669Z"
    }
   },
   "outputs": [
    {
     "name": "stdout",
     "output_type": "stream",
     "text": [
      "sent from main process\n",
      "Terminó el proceso 1\n",
      "sent from child process Worker 1\n",
      "sent from child process Worker 2\n"
     ]
    }
   ],
   "source": [
    "def worker(conn):\n",
    "    print(conn.recv())\n",
    "    pname = multiprocessing.current_process().name\n",
    "    conn.send('sent from child process {}'.format(pname))\n",
    "    conn.close()\n",
    "\n",
    "    \n",
    "conn1, conn2 = Pipe()\n",
    "conn1.send('sent from main process')\n",
    "\n",
    "process = Process(target=worker, args=(conn2,),name= 'Worker 1')\n",
    "process.start()    \n",
    "process.join()\n",
    "conn1.send('Terminó el proceso 1')\n",
    "\n",
    "process2 = Process(target=worker, args=(conn2,),name= 'Worker 2')\n",
    "process2.start()    \n",
    "process2.join()\n",
    "\n",
    "print(conn1.recv())\n",
    "print(conn1.recv())\n"
   ]
  },
  {
   "cell_type": "code",
   "execution_count": 41,
   "metadata": {
    "ExecuteTime": {
     "end_time": "2020-11-05T19:46:48.720173Z",
     "start_time": "2020-11-05T19:46:43.645023Z"
    }
   },
   "outputs": [
    {
     "name": "stdout",
     "output_type": "stream",
     "text": [
      "mandando Carlos\n",
      "Carlos\n",
      "mandando Renata\n",
      "Renata\n",
      "mandando Rebeca\n",
      "Rebeca\n",
      "mandando Sandra\n",
      "Sandra\n",
      "mandando END\n"
     ]
    }
   ],
   "source": [
    "from multiprocessing import Process, Pipe\n",
    "\n",
    "nombres =['Carlos', 'Renata', 'Rebeca', 'Sandra', 'END']\n",
    "\n",
    "def send_msg(conn, msgs):\n",
    "    for msg in msgs:\n",
    "        time.sleep(1)\n",
    "        print(f'mandando {msg}')\n",
    "        \n",
    "        conn.send(msg)\n",
    "    conn.close()\n",
    "\n",
    "def recv_msgs(conn):\n",
    "    while 1:\n",
    "        msg = conn.recv()\n",
    "        #time.sleep(1)\n",
    "        if msg =='END':\n",
    "            break\n",
    "        print(msg)\n",
    "        \n",
    "parent_conn, child_conn = multiprocessing.Pipe()\n",
    "\n",
    "\n",
    "p1 = Process(target=send_msg, args=(parent_conn, nombres))\n",
    "p2 = Process(target = recv_msgs, args=(child_conn,))\n",
    "\n",
    "p1.start()\n",
    "p2.start()\n",
    "\n",
    "\n",
    "p1.join()\n",
    "p2.join()\n",
    "\n"
   ]
  },
  {
   "cell_type": "code",
   "execution_count": 36,
   "metadata": {
    "ExecuteTime": {
     "end_time": "2020-11-05T19:35:20.968056Z",
     "start_time": "2020-11-05T19:35:20.937722Z"
    }
   },
   "outputs": [
    {
     "name": "stdout",
     "output_type": "stream",
     "text": [
      "['hello']\n",
      "['world']\n"
     ]
    }
   ],
   "source": [
    "from multiprocessing import Process, Pipe\n",
    "def funcion1(conn):\n",
    "    conn.send(['hello'])\n",
    "    conn.close\n",
    "def funcion2(conn):\n",
    "    conn.send(['world'])\n",
    "    conn.close\n",
    "if __name__ =='__main__':\n",
    "    parent_conn, child_conn =Pipe()\n",
    "    p1=Process(target=funcion1,args=(child_conn,))\n",
    "    p2=Process(target=funcion2,args=(child_conn,))\n",
    "    p1.start()\n",
    "    p2.start()\n",
    "    print(parent_conn.recv())\n",
    "    print(parent_conn.recv())\n",
    "    p1.join()\n",
    "    p2.join()"
   ]
  },
  {
   "cell_type": "markdown",
   "metadata": {},
   "source": [
    "## Queue"
   ]
  },
  {
   "cell_type": "code",
   "execution_count": 46,
   "metadata": {
    "ExecuteTime": {
     "end_time": "2020-11-05T19:55:08.687251Z",
     "start_time": "2020-11-05T19:55:08.649247Z"
    }
   },
   "outputs": [
    {
     "name": "stdout",
     "output_type": "stream",
     "text": [
      "[42, None, 'hello']\n",
      "['bye']\n"
     ]
    }
   ],
   "source": [
    "from multiprocessing import Process, Queue\n",
    "\n",
    "def f(q):\n",
    "    q.put([42,None,'hello'])\n",
    "    q.put(['bye'])\n",
    "    \n",
    "if __name__ == '__main__':\n",
    "    q = Queue()\n",
    "    p = Process(target=f, args=(q,))\n",
    "    p.start()\n",
    "    print(q.get())\n",
    "    p.join()\n",
    "    print(q.get())"
   ]
  },
  {
   "cell_type": "code",
   "execution_count": null,
   "metadata": {},
   "outputs": [],
   "source": [
    "def calc_cuad(numeros, q):\n",
    "    for n in numeros:\n",
    "        q.put(n*n)\n",
    "        \n",
    "if __name__ == '__main__':\n",
    "    \n",
    "    nums = range(10)\n",
    "    q = Queue()\n",
    "    p = Process(target=calc_cuad, args=(nums,q))\n",
    "    \n",
    "    p.start()\n",
    "    p.join()"
   ]
  },
  {
   "cell_type": "code",
   "execution_count": null,
   "metadata": {
    "ExecuteTime": {
     "end_time": "2020-11-10T18:58:02.998623Z",
     "start_time": "2020-11-10T18:57:28.503Z"
    }
   },
   "outputs": [],
   "source": [
    "import os, sys\n",
    "import multiprocessing\n",
    "\n",
    "class ChildProcess(multiprocessing.Process):\n",
    "    def __init__(self, pipein):\n",
    "        super(ChildProcess, self).__init__()\n",
    "        self.pipein=pipein\n",
    "        \n",
    "    def run(self):\n",
    "        print('Intentando iniciar el pipe')\n",
    "        self.pipein = os.fdopen(self.pipein,'w')\n",
    "        self.pipein.write('Mi código es MX-317')\n",
    "        self.pipein.close()\n",
    "        \n",
    "def main():\n",
    "    pipeout,pipein = os.pipe()\n",
    "    \n",
    "    child= ChildProcess(pipein)\n",
    "    child.start()\n",
    "    child.join()\n",
    "    \n",
    "    os.close(pipein)\n",
    "    pipeout = os.fdopen(pipeout)\n",
    "    \n",
    "    pipeContent = pipeout.read()\n",
    "    print('Pipe: {}'.format(pipeContent))\n",
    "\n",
    "if __name__ == '__main__':\n",
    "    main()"
   ]
  },
  {
   "cell_type": "markdown",
   "metadata": {},
   "source": [
    "## Bloqueo\n",
    "\n",
    "Existen recursos los cuales no se deben acceder al mismo tiempo por dos procesos o más; por lo que es necesario proteger o bloquear el acceso a estos recursos compartidos: memoria, archivos o base de datos."
   ]
  },
  {
   "cell_type": "code",
   "execution_count": 18,
   "metadata": {
    "ExecuteTime": {
     "end_time": "2020-11-10T19:44:38.096251Z",
     "start_time": "2020-11-10T19:44:36.360184Z"
    }
   },
   "outputs": [
    {
     "name": "stdout",
     "output_type": "stream",
     "text": [
      "219\n"
     ]
    }
   ],
   "source": [
    "import time\n",
    "import multiprocessing\n",
    "\n",
    "\n",
    "def deposit(balance):\n",
    "    for i in range(10000):\n",
    "        time.sleep(0.0001)\n",
    "        balance.value = balance.value + 1\n",
    "\n",
    "\n",
    "def withdraw(balance):\n",
    "    for i in range(10000):\n",
    "        time.sleep(0.0001)\n",
    "        balance.value = balance.value - 1\n",
    "\n",
    "\n",
    "if __name__ == '__main__':\n",
    "    balance = multiprocessing.Value('i', 200)\n",
    "    d = multiprocessing.Process(target=deposit, args=(balance,))\n",
    "    w = multiprocessing.Process(target=withdraw, args=(balance,))\n",
    "    d.start()\n",
    "    w.start()\n",
    "    d.join()\n",
    "    w.join()\n",
    "    print(balance.value)"
   ]
  },
  {
   "cell_type": "code",
   "execution_count": 23,
   "metadata": {
    "ExecuteTime": {
     "end_time": "2020-11-10T19:49:00.920374Z",
     "start_time": "2020-11-10T19:49:00.016614Z"
    }
   },
   "outputs": [
    {
     "name": "stdout",
     "output_type": "stream",
     "text": [
      "200\n"
     ]
    }
   ],
   "source": [
    "import time\n",
    "import multiprocessing\n",
    "\n",
    "\n",
    "def deposit(balance, lock):\n",
    "    for i in range(10000):\n",
    "        time.sleep(0.00001)\n",
    "        lock.acquire()\n",
    "        balance.value = balance.value + 1\n",
    "        lock.release()\n",
    "\n",
    "\n",
    "def withdraw(balance, lock):\n",
    "    for i in range(10000):\n",
    "        time.sleep(0.00001)\n",
    "        lock.acquire()\n",
    "        balance.value = balance.value - 1\n",
    "        lock.release()\n",
    "\n",
    "\n",
    "if __name__ == '__main__':\n",
    "    balance = multiprocessing.Value('i', 200)\n",
    "    lock = multiprocessing.Lock()\n",
    "    d = multiprocessing.Process(target=deposit, args=(balance,lock))\n",
    "    w = multiprocessing.Process(target=withdraw, args=(balance,lock))\n",
    "    d.start()\n",
    "    w.start()\n",
    "    d.join()\n",
    "    w.join()\n",
    "    print(balance.value)"
   ]
  },
  {
   "cell_type": "code",
   "execution_count": null,
   "metadata": {},
   "outputs": [],
   "source": []
  },
  {
   "cell_type": "code",
   "execution_count": null,
   "metadata": {},
   "outputs": [],
   "source": []
  },
  {
   "cell_type": "code",
   "execution_count": null,
   "metadata": {},
   "outputs": [],
   "source": []
  }
 ],
 "metadata": {
  "hide_input": false,
  "kernelspec": {
   "display_name": "Python 3",
   "language": "python",
   "name": "python3"
  },
  "language_info": {
   "codemirror_mode": {
    "name": "ipython",
    "version": 3
   },
   "file_extension": ".py",
   "mimetype": "text/x-python",
   "name": "python",
   "nbconvert_exporter": "python",
   "pygments_lexer": "ipython3",
   "version": "3.8.3"
  },
  "varInspector": {
   "cols": {
    "lenName": 16,
    "lenType": 16,
    "lenVar": 40
   },
   "kernels_config": {
    "python": {
     "delete_cmd_postfix": "",
     "delete_cmd_prefix": "del ",
     "library": "var_list.py",
     "varRefreshCmd": "print(var_dic_list())"
    },
    "r": {
     "delete_cmd_postfix": ") ",
     "delete_cmd_prefix": "rm(",
     "library": "var_list.r",
     "varRefreshCmd": "cat(var_dic_list()) "
    }
   },
   "types_to_exclude": [
    "module",
    "function",
    "builtin_function_or_method",
    "instance",
    "_Feature"
   ],
   "window_display": false
  }
 },
 "nbformat": 4,
 "nbformat_minor": 4
}
