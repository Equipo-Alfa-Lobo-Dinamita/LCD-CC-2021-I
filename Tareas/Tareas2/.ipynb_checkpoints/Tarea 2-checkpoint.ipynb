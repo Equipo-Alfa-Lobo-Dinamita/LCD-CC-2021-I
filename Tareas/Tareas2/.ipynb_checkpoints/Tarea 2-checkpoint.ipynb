{
 "cells": [
  {
   "cell_type": "markdown",
   "metadata": {},
   "source": [
    "Anexado a esta carpeta, vienen los programas en .py para su ejecución en terminal"
   ]
  },
  {
   "cell_type": "code",
   "execution_count": 3,
   "metadata": {},
   "outputs": [],
   "source": [
    "import multiprocessing as mp\n",
    "import sys\n",
    "import numpy as np"
   ]
  },
  {
   "cell_type": "markdown",
   "metadata": {},
   "source": [
    "# Programa 1"
   ]
  },
  {
   "cell_type": "markdown",
   "metadata": {},
   "source": [
    "Realiza el Programa1 que instancie, como clase o con el método Process, 10 procesos. Cada uno de los procesos hijos recibirán un valor entero y un caracter (i, c) enviados por el proceso padre, los procesos escribirán en la salida estándar i veces el caracter c."
   ]
  },
  {
   "cell_type": "code",
   "execution_count": 6,
   "metadata": {},
   "outputs": [
    {
     "name": "stdout",
     "output_type": "stream",
     "text": [
      "\n",
      "a\n",
      "bb\n",
      "ccc\n",
      "dddd\n",
      "eeeee\n",
      "hhhhhhhh\n",
      "iiiiiiiii\n",
      "jjjjjjjjjj\n",
      "ffffff\n",
      "ggggggg"
     ]
    }
   ],
   "source": [
    "\n",
    "def codigo_hijo(i,c):\n",
    "     '''\n",
    "     Función para proceso hijo que recibirá un valor entero y un\n",
    "     caracter (i, c) enviados por el proceso padre, escribirá en la salida\n",
    "     estándar i veces el caracter c.\n",
    "     '''\n",
    "     sys.stdout.write('\\n'+c*i)\n",
    "\n",
    "Procesos = []\n",
    "if __name__ == '__main__':\n",
    "    for i in range(1,11):\n",
    "        c = chr(96 + i) #Carácter en ASCII para ir variando parámetros\n",
    "        proceso = mp.Process(target = codigo_hijo, args = (i,c))\n",
    "        Procesos.append(proceso)\n",
    "    for i in range(10):\n",
    "        Procesos[i].start()\n",
    "    for i in range(10):\n",
    "        Procesos[i].join()\n"
   ]
  },
  {
   "cell_type": "markdown",
   "metadata": {},
   "source": [
    "# Programa 2\n",
    "Refactoriza (reescribe) el programa anterior y elabora el Programa2 que incluya un mecanismo de sincronización el cual permita escribir en orden todos los caracteres de cada proceso. Es decir, que se obtengala secuencia c1,1...c1,i, c2,1...c2,i, ..., c10,1...c10,i donde cada subsecuencia ck,i para cada k= 1,2, ...,10 es la secuencia de caracteres del proceso hijo k con longitud i.\n",
    "Hint:Prueba usar turnos."
   ]
  },
  {
   "cell_type": "code",
   "execution_count": 8,
   "metadata": {},
   "outputs": [
    {
     "name": "stdout",
     "output_type": "stream",
     "text": [
      "AAAABBBBCCCCDDDDEEEEFFFFGGGGHHHHIIIIJJJJ"
     ]
    }
   ],
   "source": [
    "\n",
    "\n",
    "def codigo_hijo(i,c):\n",
    "     '''\n",
    "     Función para proceso hijo que recibirá un valor entero y un\n",
    "     caracter (i, c) enviados por el proceso padre, escribirá en la salida\n",
    "     estándar i veces el caracter c.\n",
    "     '''\n",
    "     mutex.acquire()\n",
    "     sys.stdout.write(c*i)\n",
    "     mutex.release()\n",
    "\n",
    "\n",
    "Procesos = []\n",
    "# Lista con cadenas correspondientes a cada hijo\n",
    "cadenas_hijos = ['A','B','C','D','E','F','G','H','I','J','K']\n",
    "i = 4\n",
    "if __name__ == '__main__':\n",
    "    mutex = mp.Lock()\n",
    "    for j in range(10):\n",
    "        c = cadenas_hijos[j]\n",
    "        proceso = mp.Process(target = codigo_hijo, args = (i,c))\n",
    "        Procesos.append(proceso)\n",
    "\n",
    "    for j in range(10):\n",
    "        Procesos[j].start()\n",
    "\n",
    "    for i in range(10):\n",
    "        Procesos[i].join()\n"
   ]
  },
  {
   "cell_type": "markdown",
   "metadata": {},
   "source": [
    "# Programa 3"
   ]
  },
  {
   "cell_type": "markdown",
   "metadata": {},
   "source": [
    "Refactoriza (reescribe) el Programa2 y elabora el Programa3 donde construyas un mecanismo de sincronización el cual permita escribir en orden todos los caracteres de cada proceso siguiendo una política de ordenpque será una lista de números enteros aleatorios con los índices k de cada proceso hijo. La escritura de los caracteres seguirá la secuencia de ck,i(p) donde cada secuencia ck,i estará definida por la política p"
   ]
  },
  {
   "cell_type": "code",
   "execution_count": 9,
   "metadata": {},
   "outputs": [
    {
     "name": "stdout",
     "output_type": "stream",
     "text": [
      "IIIICCCCFFFFGGGGDDDDBBBBAAAAHHHHEEEEJJJJ"
     ]
    }
   ],
   "source": [
    "\n",
    "def codigo_hijo(i,c):\n",
    "     '''\n",
    "     Función para proceso hijo que recibirá un valor entero y un\n",
    "     caracter (i, c) enviados por el proceso padre, escribirá en la salida\n",
    "     estándar i veces el caracter c.\n",
    "     '''\n",
    "     mutex.acquire()\n",
    "     sys.stdout.write(c*i)\n",
    "     mutex.release()\n",
    "\n",
    "\n",
    "def politica(seed=None):\n",
    "    '''\n",
    "    Función que devuelve una lista aleatoria que definiremos como política\n",
    "    y asignará los turnos en que los carácteres serán escritos\n",
    "    '''\n",
    "    if seed is not None:\n",
    "        rn = np.random.RandomState(seed)\n",
    "        pol = rn.choice(10,10,False)\n",
    "        return pol\n",
    "\n",
    "    pol = np.random.choice(10,10,False)\n",
    "    return pol\n",
    "\n",
    "\n",
    "Procesos = []\n",
    "# Lista con cadenas correspondientes a cada hijo\n",
    "cadenas_hijos = ['A','B','C','D','E','F','G','H','I','J','K']\n",
    "i = 4\n",
    "seed = 10\n",
    "\n",
    "if __name__ == '__main__':\n",
    "    mutex = mp.Lock()\n",
    "    for j in range(10):\n",
    "        pol = politica(seed)\n",
    "        c = cadenas_hijos[pol[j]]\n",
    "        proceso = mp.Process(target = codigo_hijo, args = (i,c))\n",
    "        Procesos.append(proceso)\n",
    "\n",
    "\n",
    "\n",
    "    for j in range(10):\n",
    "        Procesos[j].start()\n",
    "\n",
    "    for i in range(10):\n",
    "        Procesos[i].join()\n"
   ]
  },
  {
   "cell_type": "code",
   "execution_count": null,
   "metadata": {},
   "outputs": [],
   "source": []
  }
 ],
 "metadata": {
  "kernelspec": {
   "display_name": "Python 3",
   "language": "python",
   "name": "python3"
  },
  "language_info": {
   "codemirror_mode": {
    "name": "ipython",
    "version": 3
   },
   "file_extension": ".py",
   "mimetype": "text/x-python",
   "name": "python",
   "nbconvert_exporter": "python",
   "pygments_lexer": "ipython3",
   "version": "3.8.3"
  }
 },
 "nbformat": 4,
 "nbformat_minor": 4
}
