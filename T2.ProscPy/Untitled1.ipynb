{
 "cells": [
  {
   "cell_type": "code",
   "execution_count": null,
   "metadata": {
    "ExecuteTime": {
     "start_time": "2020-10-23T03:55:17.276Z"
    }
   },
   "outputs": [],
   "source": [
    "def decrypt(msg, key):\n",
    "    k = len(key)\n",
    "    m = len(msg)\n",
    "    text_div = [ msg[k*i:k*(i+1)] for i in range(int(m/k))]\n",
    "    #print(text_div)\n",
    "    key_sort = ''.join(sorted(key)) \n",
    "    #print(key_sort)\n",
    "    columns = {}    \n",
    "    for i in range(k):\n",
    "        columns[key_sort[i]] = ''.join([word[i] for word in text_div]) \n",
    "    #print(columns)\n",
    "\n",
    "    columns_decrypt = []\n",
    "\n",
    "    for letter in key:\n",
    "        columns_decrypt.append(columns[letter])\n",
    "\n",
    "    #print(columns_decrypt)\n",
    "    decrypt = ''\n",
    "\n",
    "    for i in range(len(columns_decrypt[0])):\n",
    "        decrypt += ''.join([word[i] for word in columns_decrypt])\n",
    "    return decrypt\n",
    "\n",
    "def encrypt(msg,key):\n",
    "    k, m = len(key), len(msg)\n",
    "    while( int(m/k) != 0):\n",
    "        print(msg)\n",
    "        msg += ' '\n",
    "        m = len(msg)\n",
    "        print(m,m/k)\n",
    "    text_div = [ msg[k*i:k*(i+1)] for i in range(int(m/k))]\n",
    "    columns = {}   \n",
    "\n",
    "    for i in range(k):\n",
    "        columns[key[i]] = ''.join([word[i] for word in text_div]) \n",
    "    \n",
    "    key_sort = ''.join(sorted(key)) \n",
    "    columns_crypt = []\n",
    "\n",
    "    for letter in key:\n",
    "        columns_crypt.append(columns[letter])\n",
    "    \n",
    "    crypt = ''\n",
    "\n",
    "    for i in range(len(columns_decrypt[0])):\n",
    "        crypt += ''.join([word[i] for word in columns_crypt])\n",
    "    return crypt\n",
    "    \n",
    "encrypt('jajaja','ibm')"
   ]
  }
 ],
 "metadata": {
  "kernelspec": {
   "display_name": "Python 3",
   "language": "python",
   "name": "python3"
  },
  "language_info": {
   "codemirror_mode": {
    "name": "ipython",
    "version": 3
   },
   "file_extension": ".py",
   "mimetype": "text/x-python",
   "name": "python",
   "nbconvert_exporter": "python",
   "pygments_lexer": "ipython3",
   "version": "3.8.3"
  },
  "varInspector": {
   "cols": {
    "lenName": 16,
    "lenType": 16,
    "lenVar": 40
   },
   "kernels_config": {
    "python": {
     "delete_cmd_postfix": "",
     "delete_cmd_prefix": "del ",
     "library": "var_list.py",
     "varRefreshCmd": "print(var_dic_list())"
    },
    "r": {
     "delete_cmd_postfix": ") ",
     "delete_cmd_prefix": "rm(",
     "library": "var_list.r",
     "varRefreshCmd": "cat(var_dic_list()) "
    }
   },
   "types_to_exclude": [
    "module",
    "function",
    "builtin_function_or_method",
    "instance",
    "_Feature"
   ],
   "window_display": false
  }
 },
 "nbformat": 4,
 "nbformat_minor": 4
}
