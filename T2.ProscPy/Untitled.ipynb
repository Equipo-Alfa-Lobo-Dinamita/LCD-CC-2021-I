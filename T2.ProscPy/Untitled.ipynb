{
 "cells": [
  {
   "cell_type": "markdown",
   "metadata": {},
   "source": [
    "# Cómputo Concurrente\n",
    "## Multiprocessing\n",
    "\n",
    "\n"
   ]
  },
  {
   "cell_type": "markdown",
   "metadata": {},
   "source": [
    "El módulo `multiprocessing` de Python permite la creación, manipulación y soncronización de procesos, también ofrece concurrencia local como remota\n",
    "\n",
    "Ejemplo de motivación:"
   ]
  },
  {
   "cell_type": "code",
   "execution_count": 5,
   "metadata": {
    "ExecuteTime": {
     "end_time": "2020-10-20T18:04:51.307792Z",
     "start_time": "2020-10-20T18:04:47.267063Z"
    }
   },
   "outputs": [
    {
     "name": "stdout",
     "output_type": "stream",
     "text": [
      "Calcula el cuadrado\n",
      "Cuadrado: 0\n",
      "Cuadrado: 1\n",
      "Cuadrado: 4\n",
      "Cuadrado: 9\n",
      "Cuadrado: 16\n",
      "Cuadrado: 25\n",
      "Cuadrado: 36\n",
      "Cuadrado: 49\n",
      "Cuadrado: 64\n",
      "Cuadrado: 81\n",
      "Calcula el Cubo\n",
      "Cubo: 0\n",
      "Cubo: 1\n",
      "Cubo: 8\n",
      "Cubo: 27\n",
      "Cubo: 64\n",
      "Cubo: 125\n",
      "Cubo: 216\n",
      "Cubo: 343\n",
      "Cubo: 512\n",
      "Cubo: 729\n",
      "Tiempo de ejecución 4.021193027496338\n"
     ]
    }
   ],
   "source": [
    "import time\n",
    "\n",
    "def calc_cuad(numeros):\n",
    "    print(\"Calcula el cuadrado\")\n",
    "    for n in numeros:\n",
    "        time.sleep(0.2)\n",
    "        print('Cuadrado:', n*n)\n",
    "        \n",
    "\n",
    "def calc_cubo(numeros):\n",
    "    print(\"Calcula el Cubo\")\n",
    "    for n in numeros:\n",
    "        time.sleep(0.2)\n",
    "        print('Cubo:', n*n*n)\n",
    "        \n",
    "nums = range(10)\n",
    "t= time.time()\n",
    "\n",
    "calc_cuad(nums)\n",
    "calc_cubo(nums)\n",
    "\n",
    "print('Tiempo de ejecución', time.time()-t)\n",
    "print('Fin')"
   ]
  },
  {
   "cell_type": "markdown",
   "metadata": {},
   "source": [
    "Una manera sencilla de generar procesos en Python es por medio de la creación del objeto `Process` y llamarlo por medio del método `start()`"
   ]
  },
  {
   "cell_type": "code",
   "execution_count": 10,
   "metadata": {
    "ExecuteTime": {
     "end_time": "2020-10-20T18:22:54.818100Z",
     "start_time": "2020-10-20T18:22:54.811066Z"
    }
   },
   "outputs": [],
   "source": [
    "import multiprocessing as mp"
   ]
  },
  {
   "cell_type": "code",
   "execution_count": 14,
   "metadata": {
    "ExecuteTime": {
     "end_time": "2020-10-20T18:24:31.880369Z",
     "start_time": "2020-10-20T18:24:31.858468Z"
    }
   },
   "outputs": [
    {
     "name": "stdout",
     "output_type": "stream",
     "text": [
      "Hola Saul\n"
     ]
    }
   ],
   "source": [
    "def tarea(nombre):\n",
    "    print('Hola',nombre)\n",
    " \n",
    "if __name__ == '__main__': #Pregunta si se está ejecutando el programa principal\n",
    "    p = mp.Process(target=tarea, args=('Saul',))\n",
    "    p.start()\n",
    "    p.join()"
   ]
  },
  {
   "cell_type": "code",
   "execution_count": 19,
   "metadata": {
    "ExecuteTime": {
     "end_time": "2020-10-20T18:31:37.454550Z",
     "start_time": "2020-10-20T18:31:33.049230Z"
    }
   },
   "outputs": [
    {
     "name": "stdout",
     "output_type": "stream",
     "text": [
      "Calcula el cuadrado\n",
      "Cuadrado: 0\n",
      "Cuadrado: 1\n",
      "Cuadrado: 4\n",
      "Cuadrado: 9\n",
      "Cuadrado: 16\n",
      "Cuadrado: 25\n",
      "Cuadrado: 36\n",
      "Cuadrado: 49\n",
      "Cuadrado: 64\n",
      "Cuadrado: 81\n",
      "Calcula el Cubo\n",
      "Cubo: 0\n",
      "Cubo: 1\n",
      "Cubo: 8\n",
      "Cubo: 27\n",
      "Cubo: 64\n",
      "Cubo: 125\n",
      "Cubo: 216\n",
      "Cubo: 343\n",
      "Cubo: 512\n",
      "Cubo: 729\n",
      "Tiempo de ejecución 4.388640880584717\n",
      "Fin\n"
     ]
    }
   ],
   "source": [
    "\n",
    "def calc_cuad(numeros):\n",
    "    print(\"Calcula el cuadrado\")\n",
    "    for n in numeros:\n",
    "        time.sleep(0.2)\n",
    "        print('Cuadrado:', n*n)\n",
    "        \n",
    "def calc_cubo(numeros):\n",
    "    print(\"Calcula el Cubo\")\n",
    "    for n in numeros:\n",
    "        time.sleep(0.21)\n",
    "        print('Cubo:', n*n*n)\n",
    "\n",
    "\n",
    "        \n",
    "nums = range(10)\n",
    "\n",
    "t= time.time()\n",
    "p1 = mp.Process(target=calc_cuad,args=(nums,))\n",
    "p2 = mp.Process(target=calc_cubo,args=(nums,))\n",
    "\n",
    "p1.start()\n",
    "p1.join()\n",
    "\n",
    "p2.start()\n",
    "p2.join()\n",
    "\n",
    "print('Tiempo de ejecución', time.time()-t)\n",
    "print('Fin')"
   ]
  },
  {
   "cell_type": "code",
   "execution_count": 20,
   "metadata": {
    "ExecuteTime": {
     "end_time": "2020-10-20T18:31:39.753281Z",
     "start_time": "2020-10-20T18:31:37.481690Z"
    }
   },
   "outputs": [
    {
     "name": "stdout",
     "output_type": "stream",
     "text": [
      "Calcula el cuadrado\n",
      "Calcula el Cubo\n",
      "Cuadrado: 0\n",
      "Cubo: 0\n",
      "Cuadrado: 1\n",
      "Cubo: 1\n",
      "Cuadrado: 4\n",
      "Cubo: 8\n",
      "Cuadrado: 9\n",
      "Cubo: 27\n",
      "Cuadrado: 16\n",
      "Cubo: 64\n",
      "Cuadrado: 25\n",
      "Cubo: 125\n",
      "Cuadrado: 36\n",
      "Cubo: 216\n",
      "Cuadrado: 49\n",
      "Cubo: 343\n",
      "Cuadrado: 64\n",
      "Cubo: 512\n",
      "Cuadrado: 81\n",
      "Cubo: 729\n",
      "Tiempo de ejecución 2.2591984272003174\n",
      "Fin\n"
     ]
    }
   ],
   "source": [
    "t= time.time()\n",
    "p1 = mp.Process(target=calc_cuad,args=(nums,))\n",
    "p2 = mp.Process(target=calc_cubo,args=(nums,))\n",
    "\n",
    "p1.start()\n",
    "p2.start()\n",
    "\n",
    "p1.join()\n",
    "p2.join()\n",
    "\n",
    "print('Tiempo de ejecución', time.time()-t)\n",
    "print('Fin')"
   ]
  },
  {
   "cell_type": "markdown",
   "metadata": {},
   "source": []
  },
  {
   "cell_type": "markdown",
   "metadata": {},
   "source": [
    "# Identificadores pid, ppid"
   ]
  },
  {
   "cell_type": "code",
   "execution_count": 2,
   "metadata": {
    "ExecuteTime": {
     "end_time": "2020-10-22T17:51:11.091228Z",
     "start_time": "2020-10-22T17:51:11.074565Z"
    }
   },
   "outputs": [
    {
     "name": "stdout",
     "output_type": "stream",
     "text": [
      "Nombre del proceso: __main__\n",
      "Proceso padre: 337490\n",
      "Proceso actual: 338934\n"
     ]
    }
   ],
   "source": [
    "import multiprocessing as mp\n",
    "import os\n",
    "\n",
    "print('Nombre del proceso:', __name__)\n",
    "print('Proceso padre:', os.getppid())\n",
    "print('Proceso actual:', os.getpid())"
   ]
  },
  {
   "cell_type": "code",
   "execution_count": 40,
   "metadata": {
    "ExecuteTime": {
     "end_time": "2020-10-22T18:02:40.718784Z",
     "start_time": "2020-10-22T18:02:40.618052Z"
    }
   },
   "outputs": [
    {
     "name": "stdout",
     "output_type": "stream",
     "text": [
      "\n",
      " Inicio\n",
      "Nombre del proceso: __main__\n",
      "Proceso padre: 337490\n",
      "Proceso actual: 338934\n",
      "\n",
      " Función f\n",
      "Nombre del proceso: __main__\n",
      "Proceso padre: 338934\n",
      "Proceso actual: 350782\n",
      "Hola Valeriano\n",
      "--------------\n"
     ]
    }
   ],
   "source": [
    "import multiprocessing as mp\n",
    "import os\n",
    "\n",
    "\n",
    "def info(titulo):\n",
    "    print('\\n',titulo)\n",
    "    print('Nombre del proceso:',__name__)\n",
    "    print('Proceso padre:', os.getppid())\n",
    "    print('Proceso actual:', os.getpid())\n",
    "    \n",
    "def f(nombre):\n",
    "    info('Función f')\n",
    "    print('Hola', nombre)\n",
    "    print('-'*(5+len(nombre)))\n",
    "    \n",
    "info('Inicio')\n",
    "p = mp.Process(target = f, args = ('Valeriano',))\n",
    "p.start()\n",
    "p.join()"
   ]
  },
  {
   "cell_type": "code",
   "execution_count": 43,
   "metadata": {
    "ExecuteTime": {
     "end_time": "2020-10-22T18:08:08.937174Z",
     "start_time": "2020-10-22T18:08:08.929370Z"
    }
   },
   "outputs": [],
   "source": [
    "a = (1,)"
   ]
  },
  {
   "cell_type": "markdown",
   "metadata": {
    "ExecuteTime": {
     "end_time": "2020-10-22T18:08:20.441058Z",
     "start_time": "2020-10-22T18:08:20.430486Z"
    }
   },
   "source": [
    "## Ejercicio:\n",
    "\n",
    "Crea tres procesos hijos, donde:\n",
    "- El primero multiplique 3 números (a,b,c)\n",
    "- El segundo sume (a,b,c)\n",
    "- El tercero regrese (a+b)/c\n",
    "- Todos devolverán el valor calculado, el nombre de cada proceso hijo y el id del proceso padre."
   ]
  },
  {
   "cell_type": "code",
   "execution_count": 63,
   "metadata": {
    "ExecuteTime": {
     "end_time": "2020-10-22T18:31:25.791165Z",
     "start_time": "2020-10-22T18:31:22.278866Z"
    }
   },
   "outputs": [
    {
     "name": "stdout",
     "output_type": "stream",
     "text": [
      "Ingrese valor para a: 1\n",
      "Ingrese valor para b: 2\n",
      "Ingrese valor para c: 0\n",
      "\n",
      " El proceso padre: 338934\n",
      " El proceso hijo: 374187\n",
      "a*b*c = 0\n",
      "\n",
      " El proceso padre: 338934\n",
      " El proceso hijo: 374212\n",
      "a+b+c = 3\n",
      "\n",
      " El proceso padre: 338934\n",
      " El proceso hijo: 374237\n",
      "No es válida la división entre c=0 :(\n"
     ]
    }
   ],
   "source": [
    "import time\n",
    "\n",
    "def sum(a,b,c):\n",
    "    #time.sleep(1)\n",
    "    print('\\n El proceso padre:',os.getppid())\n",
    "    print(' El proceso hijo:',os.getpid())\n",
    "    print('a+b+c =',a+b+c)\n",
    "\n",
    "def mult(a,b,c):\n",
    "    #time.sleep(1)\n",
    "    print('\\n El proceso padre:',os.getppid())\n",
    "    print(' El proceso hijo:',os.getpid())\n",
    "    print('a*b*c =',a*b*c)\n",
    "\n",
    "def opr(a,b,c):\n",
    "    #time.sleep(1)\n",
    "    print('\\n El proceso padre:',os.getppid())\n",
    "    print(' El proceso hijo:',os.getpid())\n",
    "    if c==0:\n",
    "        print('No es válida la división entre c=0 :(')\n",
    "    else:    \n",
    "        print('(a+b)/c =',(a+b)/c)\n",
    "\n",
    "a = int(input('Ingrese valor para a: '))\n",
    "b = int(input('Ingrese valor para b: '))\n",
    "c = int(input('Ingrese valor para c: '))\n",
    "\n",
    "\n",
    "if __name__ == '__main__':\n",
    "    psum = mp.Process( target = sum, args = (a,b,c))\n",
    "    pmult = mp.Process( target = mult, args = (a,b,c))\n",
    "    popr = mp.Process( target = opr, args = (a,b,c))\n",
    "    \n",
    "    pmult.start()\n",
    "    pmult.join()\n",
    "    \n",
    "    psum.start()\n",
    "    psum.join()\n",
    "    \n",
    "    popr.start()\n",
    "    popr.join()"
   ]
  },
  {
   "cell_type": "markdown",
   "metadata": {},
   "source": []
  },
  {
   "cell_type": "code",
   "execution_count": 7,
   "metadata": {
    "ExecuteTime": {
     "end_time": "2020-10-27T18:31:06.471757Z",
     "start_time": "2020-10-27T18:31:03.416558Z"
    }
   },
   "outputs": [
    {
     "name": "stdout",
     "output_type": "stream",
     "text": [
      "Proceso Padre PID: 383102\n",
      "Proceso HIJO con PID: 386272\n",
      "\n",
      "El proceso padre: 383102\n",
      "El proceso hijo: 386272\n",
      "Fin del proceso hijo\n"
     ]
    }
   ],
   "source": [
    "import time\n",
    "import multiprocessing\n",
    "import os\n",
    "\n",
    "def TareaHijo():\n",
    "    print(\"Proceso HIJO con PID: {}\".format(multiprocessing.current_process().pid))\n",
    "    \n",
    "    print('\\nEl proceso padre:',os.getppid())\n",
    "    print('El proceso hijo:',os.getpid())\n",
    "    time.sleep(3)\n",
    "    print(\"Fin del proceso hijo\")\n",
    "\n",
    "    \n",
    "def main():\n",
    "    print(\"Proceso Padre PID: {}\".format(multiprocessing.current_process().pid))\n",
    "    myProcess = multiprocessing.Process(target=TareaHijo)\n",
    "    myProcess.start()\n",
    "    myProcess.join()\n",
    "    \n",
    "    \n",
    "# Se acostumbra usar la variable __name__\n",
    "# para hacer la ejecución desde el progragrama\n",
    "# principal, puede omitirse en los notebooks \n",
    "if __name__ == '__main__':\n",
    "    main()"
   ]
  },
  {
   "cell_type": "markdown",
   "metadata": {},
   "source": [
    "Es posible sasignar un nombre a un proceso hijo que ha sido creado, por medio del argumento `name`"
   ]
  },
  {
   "cell_type": "code",
   "execution_count": 10,
   "metadata": {
    "ExecuteTime": {
     "end_time": "2020-10-27T18:34:08.170725Z",
     "start_time": "2020-10-27T18:34:08.143924Z"
    }
   },
   "outputs": [
    {
     "name": "stdout",
     "output_type": "stream",
     "text": [
      "Proceso con nombre: Proceso_LCD_CC\n"
     ]
    }
   ],
   "source": [
    "def myProcess():\n",
    "    print('Proceso con nombre: {}'.format(multiprocessing.current_process().name))\n",
    "    \n",
    "def main():\n",
    "    childprocess = multiprocessing.Process(target=myProcess, name='Proceso_LCD_CC')\n",
    "    childprocess.start()\n",
    "    childprocess.join()\n",
    "    \n",
    "main()"
   ]
  },
  {
   "cell_type": "code",
   "execution_count": 11,
   "metadata": {
    "ExecuteTime": {
     "end_time": "2020-10-27T18:38:36.436118Z",
     "start_time": "2020-10-27T18:38:30.322964Z"
    }
   },
   "outputs": [
    {
     "name": "stdout",
     "output_type": "stream",
     "text": [
      "Starting process Worker 1....\n",
      "Exiting process Worker 1....\n",
      "Starting process Worker 2....\n",
      "Exiting process Worker 2....\n",
      "Starting process Process-8....\n",
      "Exiting process Process-8....\n"
     ]
    }
   ],
   "source": [
    "from multiprocessing import Process, current_process\n",
    "import time\n",
    "\n",
    "\n",
    "def f1():\n",
    "    pname = current_process().name\n",
    "    print('Starting process %s....' % pname)\n",
    "    time.sleep(2)\n",
    "    print('Exiting process %s....' % pname)\n",
    "\n",
    "\n",
    "def f2():\n",
    "    pname = current_process().name\n",
    "    print('Starting process %s....' % pname)\n",
    "    time.sleep(2)\n",
    "    print('Exiting process %s....' % pname)\n",
    "\n",
    "\n",
    "if __name__ == '__main__':\n",
    "    p1 = Process(name='Worker 1', target=f1)\n",
    "    p2 = Process(name='Worker 2', target=f2)\n",
    "    p3 = Process(target=f1)\n",
    "\n",
    "    p1.start()\n",
    "    p1.join()\n",
    "\n",
    "    p2.start()\n",
    "    p2.join()\n",
    "\n",
    "    p3.start()\n",
    "    p3.join()"
   ]
  },
  {
   "cell_type": "code",
   "execution_count": 44,
   "metadata": {
    "ExecuteTime": {
     "end_time": "2020-10-27T19:20:44.392990Z",
     "start_time": "2020-10-27T19:20:42.334968Z"
    }
   },
   "outputs": [
    {
     "name": "stdout",
     "output_type": "stream",
     "text": [
      "Starting process Worker 1....\n",
      "Starting process Worker 2....\n",
      "Starting process Process-46....\n",
      "Exiting process Worker 1....\n",
      "Exiting process Worker 2....\n",
      "Exiting process Process-46....\n"
     ]
    }
   ],
   "source": [
    "from multiprocessing import Process, current_process\n",
    "import time\n",
    "\n",
    "\n",
    "def f1():\n",
    "    pname = current_process().name\n",
    "    print('Starting process %s....' % pname)\n",
    "    time.sleep(2)\n",
    "    print('Exiting process %s....' % pname)\n",
    "\n",
    "\n",
    "def f2():\n",
    "    pname = current_process().name\n",
    "    print('Starting process %s....' % pname)\n",
    "    time.sleep(2)\n",
    "    print('Exiting process %s....' % pname)\n",
    "\n",
    "\n",
    "if __name__ == '__main__':\n",
    "    p1 = Process(name='Worker 1', target=f1)\n",
    "    p2 = Process(name='Worker 2', target=f2)\n",
    "    p3 = Process(target=f1)\n",
    "\n",
    "    p1.start()\n",
    "    p2.start()\n",
    "    p3.start()\n",
    "    \n",
    "    p1.join()\n",
    "    p2.join()\n",
    "    p3.join()"
   ]
  },
  {
   "cell_type": "markdown",
   "metadata": {},
   "source": [
    "Un proceso puede ser cancelado o terminado por medio de la función `terminate()`"
   ]
  },
  {
   "cell_type": "code",
   "execution_count": 23,
   "metadata": {
    "ExecuteTime": {
     "end_time": "2020-10-27T18:59:05.970659Z",
     "start_time": "2020-10-27T18:59:05.851439Z"
    }
   },
   "outputs": [
    {
     "name": "stdout",
     "output_type": "stream",
     "text": [
      "Procesos Hijo PID: 409626\n",
      "Proceso Padre ha terminado, termina el proceso main\n",
      "Terminando el proceso Hijo....\n",
      "Proceso Hijo ha terminado exitosamente\n"
     ]
    }
   ],
   "source": [
    "def TareaProceso():\n",
    "    proceso_actual = multiprocessing.current_process()\n",
    "    print('Procesos Hijo PID: {}'.format(proceso_actual.pid))\n",
    "    time.sleep(20)\n",
    "    proceso_actual = multiprocessing.current_process()\n",
    "    print('Procesos Padre PID: {}'.format(proceso_actualceso_actual.pid))\n",
    "    \n",
    "    \n",
    "miProceso = Process(target=TareaProceso)\n",
    "miProceso.start()\n",
    "print('Proceso Padre ha terminado, termina el proceso main')\n",
    "print('Terminando el proceso Hijo....')\n",
    "time.sleep(0.1)\n",
    "miProceso.terminate()\n",
    "print('Proceso Hijo ha terminado exitosamente')"
   ]
  },
  {
   "cell_type": "markdown",
   "metadata": {
    "code_folding": []
   },
   "source": [
    "### Ejercicio:\n",
    "1. Vamos a crear 3 procesos los cuales tendrán nombre y código definido como funP1, funP2, funP3. Cada hijo escribirá su nombre, PID, y el PID del padre. Además de hacer un cálculo sobre 3 valores a,b,c.\n",
    "\n",
    "2. El proceso 1 calcula $a*b+c$, el proceso 2 calcula $a*b*c$ y el proceso 3 calcula $(a*b)/c$\n",
    "\n",
    "\n",
    "3. Crea un mecanismo para terminar alguno de los procesos de manera aleatoria."
   ]
  },
  {
   "cell_type": "code",
   "execution_count": 50,
   "metadata": {
    "ExecuteTime": {
     "end_time": "2020-10-27T19:25:53.874938Z",
     "start_time": "2020-10-27T19:25:46.160409Z"
    }
   },
   "outputs": [
    {
     "name": "stdout",
     "output_type": "stream",
     "text": [
      "Dame un número a: 1\n",
      "Dame un número a: 2\n",
      "Dame un número c=/=0: 0\n",
      "Ese no es un valor válido, intenta de nuevo\n",
      "Dame un número c=/=0: 1\n",
      "Terminando Proceso1\n",
      "\n",
      "Proceso actual PID: 432268\n",
      "\n",
      "Proceso Padre PID: 383102\n",
      "\n",
      "Proceso actual nombre: Proceso2\n",
      "\n",
      "a*b*c = 2.0\n",
      "\n",
      "Proceso actual PID: 432269\n",
      "\n",
      "Proceso Padre PID: 383102\n",
      "\n",
      "Proceso actual nombre: Proceso3\n",
      "\n",
      "(a*b)/c = 2.0\n"
     ]
    }
   ],
   "source": [
    "from numpy import random\n",
    "import os\n",
    "from multiprocessing import current_process, Process\n",
    "\n",
    "\n",
    "def funP1(a, b, c):\n",
    "    time.sleep(1)\n",
    "    print('\\nProceso actual PID: {}'.format(current_process().pid))\n",
    "    print('\\nProceso Padre PID: {}'.format(os.getppid()))\n",
    "    print('\\nProceso actual nombre: {}'.format(current_process().name))\n",
    "    print('\\n a*b+c =', a * b + c)\n",
    "\n",
    "\n",
    "def funP2(a, b, c):\n",
    "    time.sleep(2)\n",
    "    print('\\nProceso actual PID: {}'.format(current_process().pid))\n",
    "    print('\\nProceso Padre PID: {}'.format(os.getppid()))\n",
    "    print('\\nProceso actual nombre: {}'.format(current_process().name))\n",
    "    print('\\na*b*c =', a * b * c)\n",
    "\n",
    "\n",
    "def funP3(a, b, c):\n",
    "    time.sleep(3)\n",
    "    print('\\nProceso actual PID: {}'.format(current_process().pid))\n",
    "    print('\\nProceso Padre PID: {}'.format(os.getppid()))\n",
    "    print('\\nProceso actual nombre: {}'.format(current_process().name))\n",
    "    print('\\n(a*b)/c =', (a * b) / c)\n",
    "\n",
    "\n",
    "if __name__ == '__main__':\n",
    "    a = float(input('Dame un número a: '))\n",
    "    b = float(input('Dame un número a: '))\n",
    "    c = float(input('Dame un número c=/=0: '))\n",
    "    while c==0.:\n",
    "        print('Ese no es un valor válido, intenta de nuevo')\n",
    "        c = float(input('Dame un número c=/=0: '))\n",
    "\n",
    "    proceso1 = Process(target=funP1, args=(a, b, c), name= 'Proceso1')\n",
    "    proceso2 = Process(target=funP2, args=(a, b, c), name= 'Proceso2')\n",
    "    proceso3 = Process(target=funP3, args=(a, b, c), name= 'Proceso3')\n",
    "\n",
    "    proceso1.start()\n",
    "    proceso2.start()\n",
    "    proceso3.start()\n",
    "\n",
    "    killno = random.randint(1, 4)\n",
    "    print('Terminando Proceso' + str(killno))\n",
    "    if killno == 1:\n",
    "        proceso1.terminate()\n",
    "    if killno == 2:\n",
    "        proceso2.terminate()\n",
    "    if killno == 3:\n",
    "        proceso3.terminate()\n",
    "\n",
    "    proceso1.join()\n",
    "    proceso2.join()\n",
    "    proceso3.join()"
   ]
  },
  {
   "cell_type": "markdown",
   "metadata": {
    "ExecuteTime": {
     "end_time": "2020-10-27T19:16:44.900981Z",
     "start_time": "2020-10-27T19:16:44.891657Z"
    }
   },
   "source": [
    "A veces necesitamos la creación de procesos en silencio (*background*) y no bloquear el proceso principal al finalizarlos. Esta especificación es comunmente utilizada cuando el proceso principal no tiene la certeza de interrumpir un proceso después de esperar cierto tiempo o finalizar sin que haya terminado el proceso hijo sin afectaciones al resultado final.\n",
    "\n",
    "Estos se llaman **Procesos demonio** (daemon Processes). Por medio del atributo `daemon` del método `Process`. el valor por defecto del atributo `daemon` es `False`. "
   ]
  },
  {
   "cell_type": "code",
   "execution_count": 52,
   "metadata": {
    "ExecuteTime": {
     "end_time": "2020-10-27T19:36:12.245319Z",
     "start_time": "2020-10-27T19:36:11.207066Z"
    }
   },
   "outputs": [
    {
     "name": "stdout",
     "output_type": "stream",
     "text": [
      "Starting process Worker1, ID 440552....\n",
      "Starting process Worker2, ID 440557....\n",
      "Exiting process Worker2, ID 440557....\n",
      "Exiting process Worker1, ID 440552....\n"
     ]
    }
   ],
   "source": [
    "from multiprocessing import Process, current_process\n",
    "import time\n",
    "\n",
    "def f1():\n",
    "    p=current_process()\n",
    "    print('Starting process %s, ID %s....'% (p.name, p.pid))\n",
    "    time.sleep(8)\n",
    "    print('Exiting process %s, ID %s....'% (p.name, p.pid))\n",
    "    \n",
    "    \n",
    "def f2():\n",
    "    p=current_process()\n",
    "    print('Starting process %s, ID %s....'% (p.name, p.pid))\n",
    "    time.sleep(2)\n",
    "    print('Exiting process %s, ID %s....'% (p.name, p.pid))\n",
    "    \n",
    "if __name__ == '__main__':\n",
    "    p1= Process(name='Worker1', target=f1)\n",
    "    p1.daemon = True\n",
    "    p2 = Process(name='Worker2', target = f2)\n",
    "    p1.start()\n",
    "    time.sleep(1)\n",
    "    p2.start()\n",
    "    \n",
    "    \n",
    "#Correr en terminal"
   ]
  },
  {
   "cell_type": "markdown",
   "metadata": {},
   "source": [
    "## GIL: Global Interpreter Lock"
   ]
  },
  {
   "cell_type": "code",
   "execution_count": null,
   "metadata": {},
   "outputs": [],
   "source": []
  },
  {
   "cell_type": "markdown",
   "metadata": {},
   "source": [
    "Con el método `cpu_count()` se muestra el número de procesadores del sistema que se están utilizando."
   ]
  },
  {
   "cell_type": "code",
   "execution_count": null,
   "metadata": {},
   "outputs": [],
   "source": [
    "import multiprocessing\n"
   ]
  },
  {
   "cell_type": "markdown",
   "metadata": {},
   "source": [
    "La clase `Process()` del módulo `multiprocessing` provee el método `join()` como una forma de esperar que un proceso creado finalice su tarea y salga de su ejecución.\n",
    "\n",
    "No obstante, a veces se requiere **crear procesos que corran en silencio y no bloquear el proceso principal hasta que finalicen.** Esta especificación es comúnmente utilizada cuando el proceso principal no tiene la certeza de interrumpir el proceso en un momento específico o cuando al finalizar el proceso prinicipal no se tengan afectaciones por no terminar otro proceso.\n",
    "\n",
    "Estos procesos se llaman **Procesos demonio** (*Daemon processes*). Por medio del atributo `daemon` del método `Process`. El valor por defecto del atributo `daemon` es `False`, se define a `True` para crear el proceso demonio.\n"
   ]
  },
  {
   "cell_type": "code",
   "execution_count": 2,
   "metadata": {
    "ExecuteTime": {
     "end_time": "2020-11-03T18:45:37.756816Z",
     "start_time": "2020-11-03T18:45:34.714109Z"
    }
   },
   "outputs": [
    {
     "name": "stdout",
     "output_type": "stream",
     "text": [
      "Starting process Worker1, ID 867309 ....\n",
      "Starting process Worker2, ID 867318 ....\n",
      "Whether Worker 1 is still alive: True\n",
      "Exiting process Worker2, ID 867318 ....\n",
      "Exiting process Worker1, ID 867309 ....\n"
     ]
    }
   ],
   "source": [
    "from multiprocessing import Process, current_process\n",
    "import time\n",
    "\n",
    "\n",
    "def f1():\n",
    "    p = current_process()\n",
    "    print('Starting process %s, ID %s ....' % (p.name, p.pid))\n",
    "    time.sleep(4)\n",
    "    print('Exiting process %s, ID %s ....' % (p.name, p.pid))\n",
    "\n",
    "\n",
    "def f2():\n",
    "    p = current_process()\n",
    "    print('Starting process %s, ID %s ....' % (p.name, p.pid))\n",
    "    time.sleep(2)\n",
    "    print('Exiting process %s, ID %s ....' % (p.name, p.pid))\n",
    "\n",
    "\n",
    "if __name__ == '__main__':\n",
    "    p1 = Process(name='Worker1', target=f1)\n",
    "    p1.daemon = True\n",
    "    p2 = Process(name='Worker2', target=f2)\n",
    "\n",
    "    p1.start()\n",
    "    time.sleep(1)\n",
    "    p2.start()\n",
    "\n",
    "# Ejecutar en terminal\n",
    "    # Hace que el proceso demonio termine su ejecución en una unidad de tiempo\n",
    "    p1.join(1)\n",
    "    print('Whether Worker 1 is still alive:', p1.is_alive())\n",
    "    p2.join()"
   ]
  },
  {
   "cell_type": "markdown",
   "metadata": {},
   "source": [
    "## Finalización de procesos\n",
    "El método `terminate()` ofrece una forma rápida de terminar un proceso. Es importante mencionar que los procesos hijos que del proceso que termina no son finalizados al realizar la llamada a `terminate()`, estos procesos se denominarán **procesos huérfanos**.\n",
    "\n",
    "Aunque finalizar un proceso puede ser mal visto, algunas veces es necesario si existe algún problema al realizar tareas de *comunicación interprocesos*.\n",
    "\n",
    "Al utilizar `terminate()` es importante hacer la llamda a `join()` también debido a que no es inmediata la actualización del estado `alive` del proceso."
   ]
  },
  {
   "cell_type": "markdown",
   "metadata": {},
   "source": [
    "## Comunicación entre procesos\n",
    "\n",
    "La principal forma de comunicación entre procesos se lleva a cabo por medio de tuberías *pipe* y colas *queue* entre diferentes proceso. Específicamente, brindad opciones de transmisión de mensajes para facilitar comunicación entre procesos: tuberías para conexiones entre dos procesos y colas para múltiples productores y consumidores.\n",
    "\n"
   ]
  },
  {
   "cell_type": "code",
   "execution_count": 19,
   "metadata": {
    "ExecuteTime": {
     "end_time": "2020-11-03T19:11:18.226383Z",
     "start_time": "2020-11-03T19:11:18.178146Z"
    }
   },
   "outputs": [
    {
     "name": "stdout",
     "output_type": "stream",
     "text": [
      "Starting process Process-21 for number 10...\n",
      "Done.\n"
     ]
    }
   ],
   "source": [
    "import multiprocessing\n",
    "\n",
    "class MyWorker():\n",
    "    def __init__(self, x):\n",
    "        self.x = x\n",
    "\n",
    "    def code1(self):\n",
    "        pname = multiprocessing.current_process().name\n",
    "        print('Starting process %s for number %i...' % (pname, self.x))\n",
    "\n",
    "\n",
    "def work(q):\n",
    "    worker = q.get()  #'cacha' a la cola. Abre la cola y toma lo primero que está disponible, lo guarda en worker\n",
    "    worker.code1()\n",
    "\n",
    "\n",
    "if __name__ == '__main__':\n",
    "    my_queue = multiprocessing.Queue()\n",
    "    p = multiprocessing.Process(target=work, args=(my_queue, ))\n",
    "    p.start()\n",
    "    my_queue.put(MyWorker(10))\n",
    "    my_queue.close()\n",
    "    my_queue.join_thread()\n",
    "    p.join()\n",
    "    print('Done.')\n",
    "\n"
   ]
  },
  {
   "cell_type": "code",
   "execution_count": 1,
   "metadata": {
    "ExecuteTime": {
     "end_time": "2020-11-05T18:03:52.159075Z",
     "start_time": "2020-11-05T18:03:52.137550Z"
    }
   },
   "outputs": [
    {
     "name": "stdout",
     "output_type": "stream",
     "text": [
      "Se pone en la cola:  25\n",
      "Se lee de la cola:  25\n"
     ]
    }
   ],
   "source": [
    "from multiprocessing import Process, Queue\n",
    "\n",
    "\n",
    "def worker(num, q):\n",
    "    print(\"Se pone en la cola: \", num * num)\n",
    "    q.put(num * num)\n",
    "\n",
    "\n",
    "if __name__ == '__main__':\n",
    "    my_queue = Queue()\n",
    "    p = Process(target=worker, args=(5, my_queue))\n",
    "    p.start()\n",
    "    p.join()\n",
    "    print(\"Se lee de la cola: \", my_queue.get())"
   ]
  },
  {
   "cell_type": "code",
   "execution_count": null,
   "metadata": {},
   "outputs": [],
   "source": []
  },
  {
   "cell_type": "code",
   "execution_count": null,
   "metadata": {},
   "outputs": [],
   "source": []
  },
  {
   "cell_type": "code",
   "execution_count": null,
   "metadata": {},
   "outputs": [],
   "source": []
  },
  {
   "cell_type": "code",
   "execution_count": null,
   "metadata": {},
   "outputs": [],
   "source": []
  },
  {
   "cell_type": "code",
   "execution_count": null,
   "metadata": {},
   "outputs": [],
   "source": []
  },
  {
   "cell_type": "code",
   "execution_count": null,
   "metadata": {},
   "outputs": [],
   "source": []
  },
  {
   "cell_type": "code",
   "execution_count": null,
   "metadata": {},
   "outputs": [],
   "source": []
  },
  {
   "cell_type": "code",
   "execution_count": null,
   "metadata": {},
   "outputs": [],
   "source": []
  },
  {
   "cell_type": "code",
   "execution_count": null,
   "metadata": {},
   "outputs": [],
   "source": []
  },
  {
   "cell_type": "code",
   "execution_count": null,
   "metadata": {},
   "outputs": [],
   "source": []
  },
  {
   "cell_type": "code",
   "execution_count": null,
   "metadata": {},
   "outputs": [],
   "source": []
  },
  {
   "cell_type": "code",
   "execution_count": null,
   "metadata": {},
   "outputs": [],
   "source": []
  },
  {
   "cell_type": "code",
   "execution_count": null,
   "metadata": {},
   "outputs": [],
   "source": []
  },
  {
   "cell_type": "code",
   "execution_count": null,
   "metadata": {},
   "outputs": [],
   "source": []
  },
  {
   "cell_type": "code",
   "execution_count": null,
   "metadata": {},
   "outputs": [],
   "source": []
  },
  {
   "cell_type": "code",
   "execution_count": null,
   "metadata": {},
   "outputs": [],
   "source": []
  },
  {
   "cell_type": "code",
   "execution_count": null,
   "metadata": {},
   "outputs": [],
   "source": []
  },
  {
   "cell_type": "code",
   "execution_count": null,
   "metadata": {},
   "outputs": [],
   "source": []
  },
  {
   "cell_type": "code",
   "execution_count": null,
   "metadata": {},
   "outputs": [],
   "source": []
  }
 ],
 "metadata": {
  "hide_input": false,
  "kernelspec": {
   "display_name": "Python 3",
   "language": "python",
   "name": "python3"
  },
  "language_info": {
   "codemirror_mode": {
    "name": "ipython",
    "version": 3
   },
   "file_extension": ".py",
   "mimetype": "text/x-python",
   "name": "python",
   "nbconvert_exporter": "python",
   "pygments_lexer": "ipython3",
   "version": "3.8.3"
  },
  "varInspector": {
   "cols": {
    "lenName": 16,
    "lenType": 16,
    "lenVar": 40
   },
   "kernels_config": {
    "python": {
     "delete_cmd_postfix": "",
     "delete_cmd_prefix": "del ",
     "library": "var_list.py",
     "varRefreshCmd": "print(var_dic_list())"
    },
    "r": {
     "delete_cmd_postfix": ") ",
     "delete_cmd_prefix": "rm(",
     "library": "var_list.r",
     "varRefreshCmd": "cat(var_dic_list()) "
    }
   },
   "types_to_exclude": [
    "module",
    "function",
    "builtin_function_or_method",
    "instance",
    "_Feature"
   ],
   "window_display": false
  }
 },
 "nbformat": 4,
 "nbformat_minor": 4
}
