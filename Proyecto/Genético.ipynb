{
 "cells": [
  {
   "cell_type": "code",
   "execution_count": 105,
   "metadata": {
    "ExecuteTime": {
     "end_time": "2021-02-08T23:34:52.758348Z",
     "start_time": "2021-02-08T23:34:52.557265Z"
    }
   },
   "outputs": [],
   "source": [
    "\n",
    "import random\n",
    "import statistics\n",
    "import sys\n",
    "import matplotlib.pyplot as plt\n",
    "import time"
   ]
  },
  {
   "cell_type": "code",
   "execution_count": null,
   "metadata": {
    "ExecuteTime": {
     "end_time": "2021-02-08T22:17:02.376016Z",
     "start_time": "2021-02-08T22:17:02.368677Z"
    }
   },
   "outputs": [],
   "source": []
  },
  {
   "cell_type": "code",
   "execution_count": 101,
   "metadata": {
    "ExecuteTime": {
     "end_time": "2021-02-08T23:34:29.425115Z",
     "start_time": "2021-02-08T23:34:29.398255Z"
    }
   },
   "outputs": [],
   "source": [
    "def obtener_aptitud(prediccion, objetivo):\n",
    "    '''\n",
    "    Función que calcula el error de la contraseña dada con respecto \n",
    "    a la predicha\n",
    "    '''\n",
    "    return sum(1 for esperado, real in zip(prediccion, objetivo)\n",
    "               if esperado != real)\n",
    "\n",
    "\n",
    "\n",
    "def _generar_padre(longitud, geneSet,objetivo):\n",
    "    '''\n",
    "    Genera una string aleatoria a partir de un Set de genes\n",
    "    '''\n",
    "    genes = []\n",
    "    while len(genes) < longitud:\n",
    "        tamañoMuestral = min(longitud - len(genes), len(geneSet))\n",
    "        #Sample nos toma muestra aleatoria sin reemplazo\n",
    "        genes.extend(random.sample(geneSet, tamañoMuestral)) \n",
    "    aptitud = obtener_aptitud(genes,objetivo)\n",
    "    return Cromosoma(genes, aptitud)\n",
    "\n",
    "\n",
    "def _mutar(padre, geneSet, objetivo):\n",
    "    '''\n",
    "    Función de mutación que reemplaza 1 gen de la contraseña\n",
    "    '''\n",
    "    genesDelNiño = padre.Genes[:]\n",
    "    idx = random.randrange(0, len(padre.Genes))\n",
    "     #Alterno es un carácter de emergencia por si resulta que \n",
    "        #la mutación es el mismo gen\n",
    "    nuevoGen, alterno = random.sample(geneSet, 2)\n",
    "    genesDelNiño[idx] = alterno if nuevoGen == genesDelNiño[idx] else nuevoGen\n",
    "    aptitud = obtener_aptitud(genesDelNiño,objetivo)\n",
    "    return Cromosoma(genesDelNiño, aptitud)\n",
    "\n",
    "def _cruzar(padre1,padre2, objetivo):\n",
    "    '''\n",
    "    Función de cruza entre dos padres para obtener un hijo a partir de ahí\n",
    "    '''\n",
    "    genesDelNiño = padre1.Genes[:]\n",
    "    idxs = random.sample(range(len(genesDelNiño)),int(len(genesDelNiño)/2))\n",
    "    for idx in idxs:\n",
    "        genesDelNiño[idx] = padre2.Genes[idx]\n",
    "    aptitud = obtener_aptitud(genesDelNiño,objetivo)\n",
    "    return Cromosoma(genesDelNiño, aptitud)\n",
    "\n",
    "\n",
    "class Cromosoma:\n",
    "    '''\n",
    "    Clase que irá guardando el cromosoma y su distancia c.r al problema \n",
    "    a estudiar\n",
    "    '''\n",
    "    def __init__(self, genes, aptitud):\n",
    "        self.Genes = genes\n",
    "        self.Aptitud = aptitud\n",
    "        \n",
    "        \n",
    "        \n",
    "def mostrar(candidato, horaInicio):\n",
    "    '''\n",
    "    Muestra la evolución del algoritmo\n",
    "    '''\n",
    "    \n",
    "    print(\"String: {}\\t Error:{}\".format(''.join(candidato.Genes),candidato.Aptitud))\n"
   ]
  },
  {
   "cell_type": "code",
   "execution_count": 103,
   "metadata": {
    "ExecuteTime": {
     "end_time": "2021-02-08T23:34:30.752334Z",
     "start_time": "2021-02-08T23:34:30.721835Z"
    }
   },
   "outputs": [],
   "source": [
    "    \n",
    "def sig_generacion(geneSet,poblacion, objetivo,\n",
    "                   Padres=[],longitudObjetivo=len(objetivo)\n",
    "                   ,pmutar = 0.5, pelite = 0.4, resultado=True):\n",
    "    '''\n",
    "    Dada una generación, regresa la siguiente generación de genes\n",
    "    '''\n",
    "    \n",
    "    if Padres == []:\n",
    "        Padres = [_generar_padre(longitudObjetivo, geneSet, objetivo)\n",
    "                  for padre in range(poblacion)]\n",
    "    Padres = sorted(Padres, key = lambda x: x.Aptitud)\n",
    "    \n",
    "    \n",
    "    \n",
    "    nueva_generacion = []\n",
    "    \n",
    "    for padre in Padres:\n",
    "        if random.random() < pmutar:\n",
    "            # Mutar\n",
    "            gen_a_mutar = 0\n",
    "            mutacion = Padres[gen_a_mutar]\n",
    "            while (random.random()>pelite):\n",
    "                gen_a_mutar += 1\n",
    "                mutacion = _mutar(Padres[gen_a_mutar] ,geneSet, objetivo)\n",
    "            nueva_generacion.append(mutacion)\n",
    "        else:\n",
    "            # Cruzar\n",
    "            gen_1 = 0\n",
    "            while (random.random()>pelite):\n",
    "                gen_1 += 1\n",
    "            \n",
    "            gen_2 = 0\n",
    "            while (random.random()>pelite and gen_1 != gen_2):\n",
    "                gen_2 += 1\n",
    "            cruza = _cruzar(Padres[gen_1],Padres[gen_2],objetivo)\n",
    "            nueva_generacion.append(cruza)\n",
    "    \n",
    "    \n",
    "    if resultado: \n",
    "        nueva_generacion = sorted(nueva_generacion, key = lambda x: x.Aptitud)\n",
    "        #print([x.Aptitud for x in nueva_generacion])\n",
    "        mostrar(nueva_generacion[0],time.time())\n",
    "        \n",
    "    return nueva_generacion\n",
    "\n",
    "def iteracion_generaciones(geneSet,poblacion, iteraciones, Padres=[],\n",
    "                           longitudObjetivo=len(objetivo),pmutar = 0.5, \n",
    "                           pelite = 0.8,seed=None):\n",
    "    random.seed(seed)\n",
    "    Padres = [_generar_padre(longitudObjetivo, geneSet, objetivo)\n",
    "                  for padre in range(poblacion)]\n",
    "    resultado = False\n",
    "    errores = []\n",
    "    for iteracion in range(iteraciones):\n",
    "        \n",
    "        if iteracion%50 == 0:\n",
    "            resultado = not resultado\n",
    "            \n",
    "        Padres = sig_generacion(geneSet,poblacion,objetivo,Padres,\n",
    "                                resultado=resultado)\n",
    "        \n",
    "        errores.append()\n",
    "        if iteracion%50 == 0:\n",
    "            resultado = not resultado"
   ]
  },
  {
   "cell_type": "code",
   "execution_count": 104,
   "metadata": {
    "ExecuteTime": {
     "end_time": "2021-02-08T23:34:32.927806Z",
     "start_time": "2021-02-08T23:34:31.146485Z"
    }
   },
   "outputs": [
    {
     "name": "stdout",
     "output_type": "stream",
     "text": [
      "String: czvYaNXWttJov !TLiQQZIw,nFNxBURm.afdRnZCqgW!e¡,KdbEHqjDpJuML.de,EslpSqiwDz\t Error:67\n",
      "String: solYaNXWtt!ov uE pQEsIwSngexBrfe.acpRXZCYñWlV¡,KemFÑqpDGJ.MLTde, slgxqitAz\t Error:53\n",
      "String: HolY,Nestt os un pQEsaj ndexBrfe.acpRcZCYñWlV¡, emFdqsDmJ.MTTdel !lgxqitAz\t Error:38\n",
      "String: Hola,Neste As un peEsaj  de Brfe.acpMcVCYñWlVa, emFdosDmp.Mo,del !lgxritAz\t Error:29\n",
      "String: Hola,Neste As un meEsaj  de Brfe.acpMcVCYñNlVar em dosDmpeMo,del !lgxritmz\t Error:24\n",
      "String: Hola,Neste As un meEsaje de prfe.acpM¡aCeñNluar el desDmpeño,del !lgvritmz\t Error:16\n",
      "String: Hola, este As un meEsaje de prfe.acpM¡aÑeñHluar el desempeño!del ulgoritmz\t Error:13\n",
      "String: Hola, este As un meEsaje de prue.acpMEa eñHluar el desempeño!del ulgoritmo\t Error:10\n",
      "String: Hola, este es un meEsaje de prue.a poxa eBaluar el desempeño!del ulgoritmo\t Error:7\n",
      "String: Hola, este es un meEsaje de pruePa poka eÑaluar el desempeño!del algoritmo\t Error:6\n",
      "String: Hola, este es un meEsaje de pruePa powa eÑaluar el desempeño del algoritmo\t Error:5\n",
      "String: Hola, este es un meEsaje de pruePa powa eÑaluar el desempeño del algoritmo\t Error:5\n",
      "String: Hola, este es un meLsaje de prueba pZwa evaluar el desempeño del algoritmo\t Error:3\n",
      "String: Hola, este es un meLsaje de prueba pZwa evaluar el desempeño del algoritmo\t Error:3\n",
      "String: Hola, este es un mensaje de prueba pawa evaluar el desempeño del algoritmo\t Error:1\n",
      "String: Hola, este es un mensaje de prueba pawa evaluar el desempeño del algoritmo\t Error:1\n",
      "String: Hola, este es un mensaje de prueba pawa evaluar el desempeño del algoritmo\t Error:1\n",
      "String: Hola, este es un mensaje de prueba para evaluar el desempeño del algoritmo\t Error:0\n",
      "String: Hola, este es un mensaje de prueba para evaluar el desempeño del algoritmo\t Error:0\n",
      "String: Hola, este es un mensaje de prueba para evaluar el desempeño del algoritmo\t Error:0\n"
     ]
    }
   ],
   "source": [
    "objetivo = 'Hola, este es un mensaje de prueba para evaluar el desempeño del algoritmo'\n",
    "geneSet = \" abcdefghijklmnñopqrstuvwxyzABCDEFGHIJKLMNÑOPQRSTUVWXYZ!¡.,\"\n",
    "\n",
    "iteracion_generaciones(geneSet,100,1000)"
   ]
  },
  {
   "cell_type": "code",
   "execution_count": 13,
   "metadata": {
    "ExecuteTime": {
     "end_time": "2021-02-08T19:15:57.488490Z",
     "start_time": "2021-02-08T19:15:57.459304Z"
    }
   },
   "outputs": [],
   "source": [
    "def sig_generacion(geneSet,poblacion, objetivo,\n",
    "                   Padres=[],longitudObjetivo=len(objetivo)\n",
    "                   ,pmutar = 0.5, pelite = 0.4, resultado=True):\n",
    "    '''\n",
    "    Dada una generación, regresa la siguiente generación de genes\n",
    "    '''\n",
    "    \n",
    "    if Padres == []:\n",
    "        Padres = [_generar_padre(longitudObjetivo, geneSet, objetivo)\n",
    "                  for padre in range(poblacion)]\n",
    "    Padres = sorted(Padres, key = lambda x: x.Aptitud)\n",
    "    \n",
    "    \n",
    "    \n",
    "    nueva_generacion = []\n",
    "    \n",
    "    for padre in Padres:\n",
    "        if random.random() < pmutar:\n",
    "            # Mutar\n",
    "            gen_a_mutar = 0\n",
    "            mutacion = Padres[gen_a_mutar]\n",
    "            while (random.random()>pelite):\n",
    "                gen_a_mutar += 1\n",
    "                mutacion = _mutar(Padres[gen_a_mutar] ,geneSet, objetivo)\n",
    "            nueva_generacion.append(mutacion)\n",
    "        else:\n",
    "            # Cruzar\n",
    "            gen_1 = 0\n",
    "            while (random.random()>pelite):\n",
    "                gen_1 += 1\n",
    "            \n",
    "            gen_2 = 0\n",
    "            while (random.random()>pelite and gen_1 != gen_2):\n",
    "                gen_2 += 1\n",
    "            cruza = _cruzar(Padres[gen_1],Padres[gen_2],objetivo)\n",
    "            nueva_generacion.append(cruza)\n",
    "    \n",
    "    \n",
    "    if resultado: \n",
    "        nueva_generacion = sorted(nueva_generacion, key = lambda x: x.Aptitud)\n",
    "        #print([x.Aptitud for x in nueva_generacion])\n",
    "        mostrar(nueva_generacion[0],time.time())\n",
    "        \n",
    "    return nueva_generacion\n",
    "\n",
    "def iteracion_generaciones(geneSet,poblacion, iteraciones, Padres=[],\n",
    "                           longitudObjetivo=len(objetivo),pmutar = 0.5, \n",
    "                           pelite = 0.8,seed=None):\n",
    "    random.seed(seed)\n",
    "    Padres = [_generar_padre(longitudObjetivo, geneSet, objetivo)\n",
    "                  for padre in range(poblacion)]\n",
    "    resultado = False\n",
    "    errores = []\n",
    "    for iteracion in range(iteraciones):\n",
    "        \n",
    "        if iteracion%50 == 0:\n",
    "            resultado = not resultado\n",
    "            \n",
    "        Padres = sig_generacion(geneSet,poblacion,objetivo,Padres,\n",
    "                                resultado=resultado)\n",
    "        errores.append()\n",
    "        if iteracion%50 == 0:\n",
    "            resultado = not resultado\n",
    "                "
   ]
  },
  {
   "cell_type": "code",
   "execution_count": null,
   "metadata": {},
   "outputs": [],
   "source": []
  },
  {
   "cell_type": "code",
   "execution_count": null,
   "metadata": {},
   "outputs": [],
   "source": []
  },
  {
   "cell_type": "code",
   "execution_count": null,
   "metadata": {},
   "outputs": [],
   "source": []
  },
  {
   "cell_type": "code",
   "execution_count": null,
   "metadata": {},
   "outputs": [],
   "source": []
  }
 ],
 "metadata": {
  "hide_input": false,
  "kernelspec": {
   "display_name": "Python 3",
   "language": "python",
   "name": "python3"
  },
  "language_info": {
   "codemirror_mode": {
    "name": "ipython",
    "version": 3
   },
   "file_extension": ".py",
   "mimetype": "text/x-python",
   "name": "python",
   "nbconvert_exporter": "python",
   "pygments_lexer": "ipython3",
   "version": "3.8.3"
  },
  "varInspector": {
   "cols": {
    "lenName": 16,
    "lenType": 16,
    "lenVar": 40
   },
   "kernels_config": {
    "python": {
     "delete_cmd_postfix": "",
     "delete_cmd_prefix": "del ",
     "library": "var_list.py",
     "varRefreshCmd": "print(var_dic_list())"
    },
    "r": {
     "delete_cmd_postfix": ") ",
     "delete_cmd_prefix": "rm(",
     "library": "var_list.r",
     "varRefreshCmd": "cat(var_dic_list()) "
    }
   },
   "types_to_exclude": [
    "module",
    "function",
    "builtin_function_or_method",
    "instance",
    "_Feature"
   ],
   "window_display": false
  }
 },
 "nbformat": 4,
 "nbformat_minor": 4
}
