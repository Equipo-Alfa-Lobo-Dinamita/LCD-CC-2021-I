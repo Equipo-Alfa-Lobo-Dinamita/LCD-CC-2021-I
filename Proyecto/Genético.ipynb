{
 "cells": [
  {
   "cell_type": "code",
   "execution_count": 1,
   "metadata": {
    "ExecuteTime": {
     "end_time": "2021-02-10T04:53:03.520792Z",
     "start_time": "2021-02-10T04:53:03.316336Z"
    }
   },
   "outputs": [],
   "source": [
    "import multiprocessing as mp\n",
    "import random\n",
    "import statistics\n",
    "import sys\n",
    "import matplotlib.pyplot as plt\n",
    "import time\n",
    "from itertools import product"
   ]
  },
  {
   "cell_type": "code",
   "execution_count": 2,
   "metadata": {
    "ExecuteTime": {
     "end_time": "2021-02-10T04:53:03.523913Z",
     "start_time": "2021-02-10T04:53:03.521880Z"
    }
   },
   "outputs": [],
   "source": [
    "geneSet = \" abcdefghijklmnñopqrstuvwxyzABCDEFGHIJKLMNÑOPQRSTUVWXYZ!¡.,\""
   ]
  },
  {
   "cell_type": "code",
   "execution_count": 3,
   "metadata": {
    "ExecuteTime": {
     "end_time": "2021-02-10T04:53:03.564003Z",
     "start_time": "2021-02-10T04:53:03.525483Z"
    }
   },
   "outputs": [],
   "source": [
    "def obtener_aptitud(prediccion, objetivo):\n",
    "    '''\n",
    "    Función que calcula el error de la contraseña dada con respecto \n",
    "    a la predicha\n",
    "    '''\n",
    "    return sum(1 for esperado, real in zip(prediccion, objetivo)\n",
    "               if esperado != real)\n",
    "\n",
    "\n",
    "\n",
    "def _generar_padre(geneSet,objetivo):\n",
    "    '''\n",
    "    Genera una string aleatoria a partir de un Set de genes\n",
    "    '''\n",
    "    genes = []\n",
    "    longitud = len(objetivo)\n",
    "    while len(genes) < longitud:\n",
    "        tamañoMuestral = min(longitud - len(genes), len(geneSet))\n",
    "        #Sample nos toma muestra aleatoria sin reemplazo\n",
    "        genes.extend(random.sample(geneSet, tamañoMuestral)) \n",
    "    aptitud = obtener_aptitud(genes,objetivo)\n",
    "    return Cromosoma(genes, aptitud)\n",
    "\n",
    "\n",
    "def _mutar(padre, geneSet, objetivo):\n",
    "    '''\n",
    "    Función de mutación que reemplaza 1 gen de la contraseña\n",
    "    '''\n",
    "    genesDelNiño = padre.Genes[:]\n",
    "    idx = random.randrange(0, len(padre.Genes))\n",
    "     #Alterno es un carácter de emergencia por si resulta que \n",
    "        #la mutación es el mismo gen\n",
    "    nuevoGen, alterno = random.sample(geneSet, 2)\n",
    "    genesDelNiño[idx] = alterno if nuevoGen == genesDelNiño[idx] else nuevoGen\n",
    "    aptitud = obtener_aptitud(genesDelNiño,objetivo)\n",
    "    return Cromosoma(genesDelNiño, aptitud)\n",
    "\n",
    "def _cruzar(padre1,padre2, objetivo):\n",
    "    '''\n",
    "    Función de cruza entre dos padres para obtener un hijo a partir de ahí\n",
    "    '''\n",
    "    genesDelNiño = padre1.Genes[:]\n",
    "    idxs = random.sample(range(len(genesDelNiño)),int(len(genesDelNiño)/2))\n",
    "    for idx in idxs:\n",
    "        genesDelNiño[idx] = padre2.Genes[idx]\n",
    "    aptitud = obtener_aptitud(genesDelNiño,objetivo)\n",
    "    return Cromosoma(genesDelNiño, aptitud)\n",
    "\n",
    "\n",
    "class Cromosoma:\n",
    "    '''\n",
    "    Clase que irá guardando el cromosoma y su distancia c.r al problema \n",
    "    a estudiar\n",
    "    '''\n",
    "    def __init__(self, genes, aptitud):\n",
    "        self.Genes = genes\n",
    "        self.Aptitud = aptitud\n",
    "        \n",
    "        \n",
    "        \n",
    "def mostrar(candidato, horaInicio):\n",
    "    '''\n",
    "    Muestra la evolución del algoritmo\n",
    "    '''\n",
    "    if len(candidato.Genes)>50:\n",
    "        print(\"String: {}\\t Error:{}\".format(''.join(candidato.Genes[:50]),\n",
    "                                             candidato.Aptitud))\n",
    "    else:\n",
    "        print(\"String: {}\\t Error:{}\".format(''.join(candidato.Genes),\n",
    "                                             candidato.Aptitud))\n"
   ]
  },
  {
   "cell_type": "code",
   "execution_count": 4,
   "metadata": {
    "ExecuteTime": {
     "end_time": "2021-02-10T04:53:03.576966Z",
     "start_time": "2021-02-10T04:53:03.565513Z"
    }
   },
   "outputs": [],
   "source": [
    "    \n",
    "def sig_generacion(geneSet,poblacion, objetivo,\n",
    "                   Padres=[],pmutar = 0.5, pelite = 0.4, resultado=True):\n",
    "    '''\n",
    "    Dada una generación, regresa la siguiente generación de genes\n",
    "    '''\n",
    "    \n",
    "    if Padres == []:\n",
    "        Padres = [_generar_padre(geneSet, objetivo)\n",
    "                  for padre in range(poblacion)]\n",
    "    Padres = sorted(Padres, key = lambda x: x.Aptitud)\n",
    "    \n",
    "    \n",
    "    \n",
    "    nueva_generacion = []\n",
    "    \n",
    "    for padre in Padres:\n",
    "        if random.random() < pmutar:\n",
    "            # Mutar\n",
    "            gen_a_mutar = 0\n",
    "            while (random.random()>pelite and gen_a_mutar<len(Padres)-1):\n",
    "                gen_a_mutar += 1\n",
    "            \n",
    "            mutacion = _mutar(Padres[gen_a_mutar] ,geneSet, objetivo)\n",
    "            nueva_generacion.append(mutacion)\n",
    "        else:\n",
    "            # Cruzar\n",
    "            gen_1 = 0\n",
    "            while (random.random()<pelite and gen_1<len(Padres)-1):\n",
    "                gen_1 += 1\n",
    "            \n",
    "            gen_2 = 0\n",
    "            while (random.random()<pelite and gen_1 != gen_2 and \n",
    "                   gen_2<len(Padres)-2):\n",
    "                gen_2 += 1 + (gen_1==gen_2) #Para evitar que sean iguales\n",
    "                \n",
    "            cruza = _cruzar(Padres[gen_1],Padres[gen_2],objetivo)\n",
    "            nueva_generacion.append(cruza)\n",
    "    \n",
    "    \n",
    "    nueva_generacion = sorted(nueva_generacion, key = lambda x: x.Aptitud)\n",
    "    if resultado: \n",
    "        #print([x.Aptitud for x in nueva_generacion])\n",
    "        mostrar(nueva_generacion[0],time.time())\n",
    "        \n",
    "    return nueva_generacion\n",
    "\n",
    "def iteracion_generaciones(geneSet,poblacion, objetivo, iteraciones, Padres=[],\n",
    "                           pmutar = 0.5, pelite = 0.8,seed=None):\n",
    "    random.seed(seed)\n",
    "    Padres = [_generar_padre(geneSet, objetivo)\n",
    "                  for padre in range(poblacion)]\n",
    "    resultado = False\n",
    "    errores = []\n",
    "    for iteracion in range(iteraciones):\n",
    "        \n",
    "        if iteracion%int(iteraciones/10) == 0:\n",
    "            resultado = not resultado\n",
    "            \n",
    "        Padres = sig_generacion(geneSet,poblacion,objetivo,Padres,\n",
    "                                resultado=resultado)\n",
    "        errores.append(Padres[0].Aptitud)\n",
    "        \n",
    "        if iteracion%int(iteraciones/10) == 0:\n",
    "            resultado = not resultado\n",
    "    plt.plot(errores)\n",
    "    return Padres[0]"
   ]
  },
  {
   "cell_type": "code",
   "execution_count": 5,
   "metadata": {
    "ExecuteTime": {
     "end_time": "2021-02-10T04:53:04.202657Z",
     "start_time": "2021-02-10T04:53:03.578443Z"
    }
   },
   "outputs": [
    {
     "name": "stdout",
     "output_type": "stream",
     "text": [
      "String: Jola\t Error:1\n",
      "String: hola\t Error:0\n",
      "String: hola\t Error:0\n",
      "String: hola\t Error:0\n",
      "String: hola\t Error:0\n",
      "String: hola\t Error:0\n",
      "String: hola\t Error:0\n",
      "String: hola\t Error:0\n",
      "String: hola\t Error:0\n",
      "String: hola\t Error:0\n"
     ]
    },
    {
     "data": {
      "text/plain": [
       "<__main__.Cromosoma at 0x7f4273a6bbe0>"
      ]
     },
     "execution_count": 5,
     "metadata": {},
     "output_type": "execute_result"
    },
    {
     "data": {
      "image/png": "[encoded data removed]",
      "text/plain": [
       "<Figure size 432x288 with 1 Axes>"
      ]
     },
     "metadata": {
      "needs_background": "light"
     },
     "output_type": "display_data"
    }
   ],
   "source": [
    "\n",
    "\n",
    "iteracion_generaciones(geneSet,100,'hola',1000)"
   ]
  },
  {
   "cell_type": "code",
   "execution_count": 6,
   "metadata": {
    "ExecuteTime": {
     "end_time": "2021-02-10T04:53:04.217543Z",
     "start_time": "2021-02-10T04:53:04.203894Z"
    }
   },
   "outputs": [],
   "source": [
    "def crear_hijo(Padres,pmutar,pelite,objetivo):\n",
    "    \n",
    "    if random.random() < pmutar:\n",
    "        # Mutar\n",
    "        gen_a_mutar = 0\n",
    "        #mutacion = Padres[gen_a_mutar]\n",
    "        while (random.random()>pelite and gen_a_mutar<len(Padres)-1):\n",
    "            gen_a_mutar += 1\n",
    "    \n",
    "        mutacion = _mutar(Padres[gen_a_mutar] ,geneSet, objetivo)\n",
    "\n",
    "        return mutacion\n",
    "        \n",
    "    else:\n",
    "        # Cruzar\n",
    "        gen_1 = 0\n",
    "        while (random.random()<pelite and gen_1<len(Padres)-1):\n",
    "            gen_1 += 1\n",
    "\n",
    "        gen_2 = 0\n",
    "        while (random.random()<pelite and gen_1 != gen_2 and \n",
    "               gen_2<len(Padres)-2):\n",
    "            gen_2 += 1 + (gen_1==gen_2) #Para evitar que sean iguales\n",
    "\n",
    "        cruza = _cruzar(Padres[gen_1],Padres[gen_2],objetivo)\n",
    "        return cruza\n",
    "    \n",
    "def sig_generacion_paralelo(geneSet,poblacion, objetivo,\n",
    "                   Padres=[],pmutar = 0.5, pelite = 0.4, resultado=True):\n",
    "    '''\n",
    "    Dada una generación, regresa la siguiente generación de genes\n",
    "    '''\n",
    "    \n",
    "    if Padres == []:\n",
    "        Padres = [_generar_padre(longitudObjetivo, geneSet, objetivo)\n",
    "                  for padre in range(poblacion)]\n",
    "    Padres = sorted(Padres, key = lambda x: x.Aptitud)\n",
    "    \n",
    "    \n",
    "    \n",
    "    nueva_generacion = []\n",
    "    \n",
    "\n",
    "    # MP\n",
    "    pool = mp.Pool(mp.cpu_count())\n",
    "    parametros = [(Padres, pmutar, pelite, objetivo) for _ in range(poblacion)]\n",
    "    nueva_generacion = pool.starmap(crear_hijo,parametros)\n",
    "#    pool.close()\n",
    "#    pool.join()\n",
    "    #nueva_generacion = nueva_generacion.get(timeout=1)\n",
    "    nueva_generacion = sorted(nueva_generacion, key = lambda x: x.Aptitud)\n",
    "    \n",
    "    if resultado: \n",
    "        \n",
    "        #print([x.Aptitud for x in nueva_generacion])\n",
    "        mostrar(nueva_generacion[0],time.time())\n",
    "        \n",
    "    return nueva_generacion\n",
    "\n",
    "def iteracion_generaciones_paralelo(geneSet,poblacion, objetivo, iteraciones, \n",
    "                                    Padres=[], pmutar = 0.5, pelite = 0.8,\n",
    "                                    seed=None):\n",
    "    random.seed(seed)\n",
    "    Padres = [_generar_padre(geneSet, objetivo)\n",
    "                  for padre in range(poblacion)]\n",
    "    resultado = False\n",
    "    errores = []\n",
    "    \n",
    "    for iteracion in range(iteraciones):\n",
    "        \n",
    "        #print([padre.Genes for padre in Padres])\n",
    "        if iteracion%int(iteraciones/10) == 0:\n",
    "            resultado = not resultado\n",
    "            \n",
    "        Padres = sig_generacion_paralelo(geneSet,poblacion,objetivo,Padres,\n",
    "                                resultado=resultado)\n",
    "        \n",
    "        errores.append(Padres[0].Aptitud)\n",
    "        \n",
    "        if iteracion%int(iteraciones/10) == 0:\n",
    "            resultado = not resultado\n",
    "            \n",
    "    plt.plot(errores)\n",
    "    return Padres[0]"
   ]
  },
  {
   "cell_type": "code",
   "execution_count": 7,
   "metadata": {
    "ExecuteTime": {
     "end_time": "2021-02-10T04:53:04.234356Z",
     "start_time": "2021-02-10T04:53:04.220160Z"
    }
   },
   "outputs": [],
   "source": [
    "def crear_hijo_concurrente(Padres,pmutar,pelite,objetivo,q):\n",
    "    random.seed()\n",
    "    if random.random() < pmutar:\n",
    "        # Mutar\n",
    "        gen_a_mutar = 0\n",
    "        #mutacion = Padres[gen_a_mutar]\n",
    "        while (random.random()>pelite and gen_a_mutar<len(Padres)-1):\n",
    "            gen_a_mutar += 1\n",
    "    \n",
    "        mutacion = _mutar(Padres[gen_a_mutar] ,geneSet, objetivo)\n",
    "\n",
    "        q.put(mutacion)\n",
    "        \n",
    "    else:\n",
    "        # Cruzar\n",
    "        gen_1 = 0\n",
    "        while (random.random()<pelite and gen_1<len(Padres)-1):\n",
    "            gen_1 += 1\n",
    "\n",
    "        gen_2 = 0\n",
    "        while (random.random()<pelite and gen_1 != gen_2 and \n",
    "               gen_2<len(Padres)-2):\n",
    "            gen_2 += 1 + (gen_1==gen_2) #Para evitar que sean iguales\n",
    "\n",
    "        cruza = _cruzar(Padres[gen_1],Padres[gen_2],objetivo)\n",
    "        q.put(cruza)\n",
    "    \n",
    "def sig_generacion_concurrente(geneSet,poblacion, objetivo,\n",
    "                   Padres=[],pmutar = 0.5, pelite = 0.4, resultado=True):\n",
    "    '''\n",
    "    Dada una generación, regresa la siguiente generación de genes\n",
    "    '''\n",
    "    \n",
    "    if Padres == []:\n",
    "        Padres = [_generar_padre(longitudObjetivo, geneSet, objetivo)\n",
    "                  for padre in range(poblacion)]\n",
    "    Padres = sorted(Padres, key = lambda x: x.Aptitud)\n",
    "    \n",
    "    \n",
    "    \n",
    "    nueva_generacion = []\n",
    "    \n",
    "\n",
    "    # MP\n",
    "    q = mp.Queue()\n",
    "    \n",
    "    procesos = [mp.Process(target=crear_hijo_concurrente,\n",
    "                           args=(Padres,pmutar,pelite,objetivo,q)) \n",
    "                for i in range(poblacion)]\n",
    "    \n",
    "    for proceso in procesos:\n",
    "        proceso.start()\n",
    "        \n",
    "    for proceso in procesos:\n",
    "        proceso.join()\n",
    "        \n",
    "    while q.empty() is False:\n",
    "        nueva_generacion.append(q.get())\n",
    "    \n",
    "\n",
    "    nueva_generacion = sorted(nueva_generacion, key = lambda x: x.Aptitud)\n",
    "    \n",
    "    if resultado: \n",
    "        \n",
    "        #print([x.Aptitud for x in nueva_generacion])\n",
    "        mostrar(nueva_generacion[0],time.time())\n",
    "        \n",
    "    return nueva_generacion\n",
    "\n",
    "def iteracion_generaciones_concurrente(geneSet,poblacion, objetivo, iteraciones, \n",
    "                                    Padres=[], pmutar = 0.5, pelite = 0.8,\n",
    "                                    seed=None):\n",
    "    random.seed(seed)\n",
    "    Padres = [_generar_padre(geneSet, objetivo)\n",
    "                  for padre in range(poblacion)]\n",
    "    resultado = False\n",
    "    errores = []\n",
    "    \n",
    "    for iteracion in range(iteraciones):\n",
    "        \n",
    "        #print([padre.Genes for padre in Padres])\n",
    "        if iteracion%int(iteraciones/10) == 0:\n",
    "            resultado = not resultado\n",
    "            \n",
    "        Padres = sig_generacion_concurrente(geneSet,poblacion,objetivo,Padres,\n",
    "                                resultado=resultado)\n",
    "        \n",
    "        errores.append(Padres[0].Aptitud)\n",
    "        \n",
    "        if iteracion%int(iteraciones/10) == 0:\n",
    "            resultado = not resultado\n",
    "            \n",
    "    plt.plot(errores)\n",
    "    return Padres[0]"
   ]
  },
  {
   "cell_type": "code",
   "execution_count": 8,
   "metadata": {
    "ExecuteTime": {
     "end_time": "2021-02-10T04:53:04.249135Z",
     "start_time": "2021-02-10T04:53:04.236472Z"
    }
   },
   "outputs": [],
   "source": [
    "def crear_hijos_concurrente2(Padres,pmutar,pelite,objetivo,q,num_hijos):\n",
    "    hijos = []\n",
    "    random.seed()\n",
    "    for hijo in range(num_hijos):\n",
    "        \n",
    "        if random.random() < pmutar:\n",
    "            # Mutar\n",
    "            gen_a_mutar = 0\n",
    "            #mutacion = Padres[gen_a_mutar]\n",
    "            while (random.random()>pelite and gen_a_mutar<len(Padres)-1):\n",
    "                gen_a_mutar += 1\n",
    "            mutacion = _mutar(Padres[gen_a_mutar] ,geneSet, objetivo)\n",
    "            hijos.append(mutacion)\n",
    "            \n",
    "\n",
    "        else:\n",
    "            # Cruzar\n",
    "            \n",
    "            gen_1 = 0\n",
    "            while (random.random()<pelite and gen_1<len(Padres)-1):\n",
    "                gen_1 += 1\n",
    "\n",
    "            gen_2 = 0\n",
    "            while (random.random()<pelite and gen_1 != gen_2 and \n",
    "                   gen_2<len(Padres)-2):\n",
    "                gen_2 += 1 + (gen_1==gen_2) #Para evitar que sean iguales\n",
    "\n",
    "            cruza = _cruzar(Padres[gen_1],Padres[gen_2],objetivo)\n",
    "            hijos.append(cruza)\n",
    "    \n",
    "    q.put(hijos)\n",
    "\n",
    "def sig_generacion_concurrente2(geneSet,poblacion, objetivo,\n",
    "                   Padres=[],pmutar = 0.5, pelite = 0.4, resultado=True):\n",
    "    '''\n",
    "    Dada una generación, regresa la siguiente generación de genes\n",
    "    '''\n",
    "    \n",
    "    if Padres == []:\n",
    "        Padres = [_generar_padre(longitudObjetivo, geneSet, objetivo)\n",
    "                  for padre in range(poblacion)]\n",
    "    Padres = sorted(Padres, key = lambda x: x.Aptitud)\n",
    "    \n",
    "    \n",
    "    \n",
    "    nueva_generacion = []\n",
    "    \n",
    "\n",
    "    # MP\n",
    "    q = mp.Queue()\n",
    "    intervalo = int(poblacion/mp.cpu_count())\n",
    "    procesos = [mp.Process(target=crear_hijos_concurrente2,\n",
    "                           args=(Padres,pmutar,pelite,objetivo,q,intervalo)) \n",
    "                for i in range(mp.cpu_count())]\n",
    "    \n",
    "    for proceso in procesos:\n",
    "        proceso.start()\n",
    "\n",
    "    \n",
    "    for i in range(len(procesos)):\n",
    "        procesos[i].join(timeout=1)\n",
    "    \n",
    "    while q.empty() is False:\n",
    "   #     print(nueva_generacion)\n",
    "        nueva_generacion += q.get()        \n",
    "        \n",
    "\n",
    "   \n",
    "\n",
    "\n",
    "    nueva_generacion = sorted(nueva_generacion, key = lambda x: x.Aptitud)\n",
    "    \n",
    "    if resultado: \n",
    "        \n",
    "        #print([x.Aptitud for x in nueva_generacion])\n",
    "        mostrar(nueva_generacion[0],time.time())\n",
    "        \n",
    "    return nueva_generacion\n",
    "\n",
    "def iteracion_generaciones_concurrente2(geneSet,poblacion, objetivo, iteraciones, \n",
    "                                    Padres=[], pmutar = 0.5, pelite = 0.8,\n",
    "                                    seed=None):\n",
    "    random.seed(seed)\n",
    "    Padres = [_generar_padre(geneSet, objetivo) for padre in range(poblacion)]\n",
    "    resultado = False\n",
    "    errores = []\n",
    "    \n",
    "    for iteracion in range(iteraciones):\n",
    "        \n",
    "        #print([padre.Genes for padre in Padres])\n",
    "        if iteracion%int(iteraciones/10) == 0:\n",
    "            resultado = not resultado\n",
    "            \n",
    "        Padres = sig_generacion_concurrente2(geneSet,poblacion,objetivo,Padres,resultado=resultado)\n",
    "        \n",
    "        errores.append(Padres[0].Aptitud)\n",
    "        \n",
    "        if iteracion%int(iteraciones/10) == 0:\n",
    "            resultado = not resultado\n",
    "            \n",
    "    plt.plot(errores)\n",
    "    return Padres[0]"
   ]
  },
  {
   "cell_type": "code",
   "execution_count": 9,
   "metadata": {
    "ExecuteTime": {
     "end_time": "2021-02-10T04:53:04.252636Z",
     "start_time": "2021-02-10T04:53:04.250147Z"
    }
   },
   "outputs": [
    {
     "name": "stdout",
     "output_type": "stream",
     "text": [
      "1933685776\n"
     ]
    }
   ],
   "source": [
    "print(random.randint(0,2**32))"
   ]
  },
  {
   "cell_type": "code",
   "execution_count": 10,
   "metadata": {
    "ExecuteTime": {
     "end_time": "2021-02-10T04:53:04.272529Z",
     "start_time": "2021-02-10T04:53:04.253619Z"
    }
   },
   "outputs": [],
   "source": [
    "import psutil\n",
    "import os\n",
    "import matplotlib.pyplot as plt\n",
    "\n",
    "def cpu_usage(q,finish):\n",
    "    \n",
    "    usage = []    \n",
    "    while not finish.value:\n",
    "        time.sleep(0.05)\n",
    "        usage.append(psutil.cpu_percent(percpu=True))\n",
    "    #print('Put')\n",
    "    q.put(usage)\n",
    "    return\n",
    "\n",
    "\n",
    "\n",
    "\n",
    "\n",
    "def comparacion(objetivo,poblacion=mp.cpu_count(), iteraciones=500,\n",
    "                concurrente1=True,concurrente2=True):\n",
    "    \n",
    "    geneSet = \" abcdefghijklmnñopqrstuvwxyzABCDEFGHIJKLMNÑOPQRSTUVWXYZ!¡.,\"\n",
    "    usages = []\n",
    "    \n",
    "    q = mp.Queue()\n",
    "    \n",
    "    finish = mp.Value('i', False)\n",
    "    cpu_process_secuencial = mp.Process(target=cpu_usage,args=(q,finish))\n",
    "    cpu_process_secuencial.start()\n",
    "    start = time.time()\n",
    "    print('Secuencial:')\n",
    "    iteracion_generaciones(geneSet,poblacion,objetivo,iteraciones,\n",
    "                           pmutar=0.8,pelite=0.5)\n",
    "    end_secuencial = (time.time()-start)\n",
    "    finish.value = True    \n",
    "    cpu_process_secuencial.join()\n",
    "    usage_secuencial= q.get()\n",
    "    usages.append((usage_secuencial,'Secuencial'))\n",
    "    \n",
    "    end_concurrente1 = 'No aplica'\n",
    "    \n",
    "    if concurrente1:\n",
    "        print('Concurrente1:')\n",
    "        finish.value = False\n",
    "        cpu_process_concurrente = mp.Process(target=cpu_usage,args=(q,finish))\n",
    "        cpu_process_concurrente.start()\n",
    "        start_concurrente = time.time()\n",
    "        iteracion_generaciones_concurrente(geneSet,poblacion,objetivo,iteraciones,\n",
    "                                           pmutar=0.8,pelite=0.5)\n",
    "        end_concurrente1 = (time.time()- start_concurrente)\n",
    "        finish.value = True\n",
    "        cpu_process_concurrente.join()\n",
    "        usage_concurrente= q.get()\n",
    "        usages.append((usage_concurrente,'Concurrente1'))\n",
    "    \n",
    "    end_concurrente2 = 'No aplica'\n",
    "    if concurrente2:\n",
    "        print('Concurrente2:')\n",
    "        finish.value = False\n",
    "        cpu_process_concurrente2 = mp.Process(target=cpu_usage,args=(q,finish))\n",
    "        cpu_process_concurrente2.start()\n",
    "        start_concurrente2 = time.time()\n",
    "        iteracion_generaciones_concurrente2(geneSet,poblacion,objetivo,iteraciones,\n",
    "                                           pmutar=0.8,pelite=0.5)\n",
    "        end_concurrente2 = (time.time()- start_concurrente2)\n",
    "        finish.value = True\n",
    "        cpu_process_concurrente2.join()\n",
    "        usage_concurrente2= q.get()\n",
    "        usages.append((usage_concurrente2,'Concurrente2'))\n",
    "        \n",
    "    \n",
    "    finish.value = False\n",
    "    print('Pool:')\n",
    "    cpu_process_paralelo = mp.Process(target=cpu_usage,args=(q,finish))\n",
    "    cpu_process_paralelo.start()\n",
    "    start_paralelo = time.time()\n",
    "    iteracion_generaciones_paralelo(geneSet,poblacion,objetivo,iteraciones,\n",
    "                                    pmutar=0.8,pelite=0.5)\n",
    "    end_paralelo = (time.time()- start_paralelo)\n",
    "    finish.value = True\n",
    "    usage_paralelo= q.get()\n",
    "    cpu_process_paralelo.join()\n",
    "    usages.append((usage_paralelo,'paralelo'))\n",
    "    \n",
    "    print(f'Secuencial: {end_secuencial}\\t Concurrente1:{end_concurrente1}\\n Concurrente2:{end_concurrente2}\\t Paralelo: {end_paralelo}')\n",
    "    \n",
    "    return usages"
   ]
  },
  {
   "cell_type": "code",
   "execution_count": 11,
   "metadata": {
    "ExecuteTime": {
     "end_time": "2021-02-10T04:53:04.276071Z",
     "start_time": "2021-02-10T04:53:04.273784Z"
    }
   },
   "outputs": [],
   "source": [
    "objetivo = open('Lorem ipsum')\n",
    "objetivo = objetivo.read()[:500]\n",
    "\n",
    "#secuencial, concurrente, paralelo = comparacion(objetivo,iteraciones=200)"
   ]
  },
  {
   "cell_type": "code",
   "execution_count": 12,
   "metadata": {
    "ExecuteTime": {
     "end_time": "2021-02-10T04:53:04.281145Z",
     "start_time": "2021-02-10T04:53:04.277245Z"
    }
   },
   "outputs": [],
   "source": [
    "\n",
    "def plot_cpu(objetivo,poblacion,iteraciones,\n",
    "            concurrente1=True,concurrente2=True):\n",
    "    uso_cpu = comparacion(objetivo,poblacion,\n",
    "                                                    iteraciones,concurrente1,\n",
    "                                                    concurrente2)\n",
    "    \n",
    "\n",
    "    for modelo,nombre in uso_cpu:\n",
    "        plt.figure(figsize=(15,5))\n",
    "        usage_max = min(len(modelo),50)\n",
    "        usage = modelo[:usage_max]\n",
    "        for i in range(mp.cpu_count()):\n",
    "            plt.plot([cpu[i] for cpu in usage], label = f'CPU{i}')\n",
    "        plt.legend(loc='best')\n",
    "        plt.title(f'Uso del cpu en modelo {nombre}')\n",
    "        plt.show()"
   ]
  },
  {
   "cell_type": "code",
   "execution_count": 13,
   "metadata": {
    "ExecuteTime": {
     "end_time": "2021-02-10T04:53:18.857402Z",
     "start_time": "2021-02-10T04:53:04.282199Z"
    }
   },
   "outputs": [
    {
     "name": "stdout",
     "output_type": "stream",
     "text": [
      "Secuencial:\n",
      "String: T!yXmNoiL¡hlCM..rVeNV! Hzu,IfOWbSxaAnwDGgCbAZOLdFv\t Error:473\n",
      "String: R!¡pmNoiLc TdlL.rVeiQxwMDu,gjYhbAxaAnKDGhCbpZOLdFv\t Error:447\n",
      "String: R!¡pmNoiLc TdlL.rVeiQxaMDu,gjYhbAxaAnKDGhCipZOLdFv\t Error:426\n",
      "String: R!¡pm oiLc Tdll.rVeiQxaMDu,gjYhbAxaAnKDGhdipZOLdFv\t Error:402\n",
      "String: R!¡pm oiLc Tdll.rVsiQ aMDu,gjYhbAxaAnKDGhdipZOLiFv\t Error:380\n",
      "String: R!¡pm oiLc Tdll.rVsiQ aMDu,gjYhbAxaAnKDGhdipZOLiFv\t Error:361\n",
      "String: R!¡pm oiLc Tdll.rVsiQ aMDu,gjYhbAxaAnKDGadipZOLiFv\t Error:339\n",
      "String: R!¡em oiLcmTdll.rVsiQ aMDu,gcYhbAcaAnKDGadipZOLiFv\t Error:317\n",
      "String: L!¡em oiLcmTdll.rVsiQ aMDu,gcYhbAcaAnKDGadipZOLinv\t Error:295\n",
      "String: L!¡em ipLcmTdll.rVsiQ aMDu,gcYhbAcaAnKDGadipZsLinv\t Error:276\n",
      "Concurrente2:\n",
      "Here\n",
      "HereHereHere\n",
      "\n",
      "\n",
      "HereHere\n",
      "Here\n",
      "\n",
      "Here\n"
     ]
    },
    {
     "name": "stderr",
     "output_type": "stream",
     "text": [
      "Process Process-8:\n",
      "Process Process-9:\n",
      "Process Process-5:\n",
      "Process Process-6:\n",
      "Process Process-7:\n",
      "Process Process-10:\n",
      "Process Process-4:\n",
      "Process Process-2:\n",
      "Traceback (most recent call last):\n",
      "Traceback (most recent call last):\n",
      "Traceback (most recent call last):\n",
      "Traceback (most recent call last):\n",
      "Traceback (most recent call last):\n"
     ]
    }
   ],
   "source": [
    "plot_cpu(objetivo,500,200,concurrente1=False)"
   ]
  },
  {
   "cell_type": "code",
   "execution_count": null,
   "metadata": {
    "ExecuteTime": {
     "end_time": "2021-02-10T00:15:27.963596Z",
     "start_time": "2021-02-10T00:15:27.941223Z"
    }
   },
   "outputs": [],
   "source": []
  },
  {
   "cell_type": "code",
   "execution_count": null,
   "metadata": {
    "ExecuteTime": {
     "end_time": "2021-02-10T04:53:18.862912Z",
     "start_time": "2021-02-10T04:53:03.323Z"
    }
   },
   "outputs": [],
   "source": [
    "geneSet = \" abcdefghijklmnñopqrstuvwxyzABCDEFGHIJKLMNÑOPQRSTUVWXYZ!¡.,\"\n",
    "objetivo = open('Lorem ipsum')\n",
    "objetivo = objetivo.read()[:500]\n",
    "\n",
    "iteracion_generaciones_concurrente2(geneSet,1000,objetivo,1000)"
   ]
  },
  {
   "cell_type": "code",
   "execution_count": null,
   "metadata": {},
   "outputs": [],
   "source": []
  },
  {
   "cell_type": "code",
   "execution_count": null,
   "metadata": {},
   "outputs": [],
   "source": []
  }
 ],
 "metadata": {
  "hide_input": false,
  "kernelspec": {
   "display_name": "Python 3",
   "language": "python",
   "name": "python3"
  },
  "language_info": {
   "codemirror_mode": {
    "name": "ipython",
    "version": 3
   },
   "file_extension": ".py",
   "mimetype": "text/x-python",
   "name": "python",
   "nbconvert_exporter": "python",
   "pygments_lexer": "ipython3",
   "version": "3.8.3"
  },
  "varInspector": {
   "cols": {
    "lenName": 16,
    "lenType": 16,
    "lenVar": 40
   },
   "kernels_config": {
    "python": {
     "delete_cmd_postfix": "",
     "delete_cmd_prefix": "del ",
     "library": "var_list.py",
     "varRefreshCmd": "print(var_dic_list())"
    },
    "r": {
     "delete_cmd_postfix": ") ",
     "delete_cmd_prefix": "rm(",
     "library": "var_list.r",
     "varRefreshCmd": "cat(var_dic_list()) "
    }
   },
   "types_to_exclude": [
    "module",
    "function",
    "builtin_function_or_method",
    "instance",
    "_Feature"
   ],
   "window_display": false
  }
 },
 "nbformat": 4,
 "nbformat_minor": 4
}
