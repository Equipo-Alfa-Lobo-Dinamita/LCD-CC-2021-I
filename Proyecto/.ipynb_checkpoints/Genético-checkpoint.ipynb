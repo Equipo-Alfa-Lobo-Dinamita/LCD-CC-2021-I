{
 "cells": [
  {
   "cell_type": "code",
   "execution_count": 1,
   "metadata": {
    "ExecuteTime": {
     "end_time": "2021-02-09T23:07:05.653322Z",
     "start_time": "2021-02-09T23:07:05.251175Z"
    }
   },
   "outputs": [],
   "source": [
    "import multiprocessing as mp\n",
    "import random\n",
    "import statistics\n",
    "import sys\n",
    "import matplotlib.pyplot as plt\n",
    "import time\n",
    "from itertools import product"
   ]
  },
  {
   "cell_type": "code",
   "execution_count": null,
   "metadata": {
    "ExecuteTime": {
     "end_time": "2021-02-08T22:17:02.376016Z",
     "start_time": "2021-02-08T22:17:02.368677Z"
    }
   },
   "outputs": [],
   "source": []
  },
  {
   "cell_type": "code",
   "execution_count": 2,
   "metadata": {
    "ExecuteTime": {
     "end_time": "2021-02-09T23:07:05.715685Z",
     "start_time": "2021-02-09T23:07:05.658184Z"
    }
   },
   "outputs": [],
   "source": [
    "def obtener_aptitud(prediccion, objetivo):\n",
    "    '''\n",
    "    Función que calcula el error de la contraseña dada con respecto \n",
    "    a la predicha\n",
    "    '''\n",
    "    return sum(1 for esperado, real in zip(prediccion, objetivo)\n",
    "               if esperado != real)\n",
    "\n",
    "\n",
    "\n",
    "def _generar_padre(geneSet,objetivo):\n",
    "    '''\n",
    "    Genera una string aleatoria a partir de un Set de genes\n",
    "    '''\n",
    "    genes = []\n",
    "    longitud = len(objetivo)\n",
    "    while len(genes) < longitud:\n",
    "        tamañoMuestral = min(longitud - len(genes), len(geneSet))\n",
    "        #Sample nos toma muestra aleatoria sin reemplazo\n",
    "        genes.extend(random.sample(geneSet, tamañoMuestral)) \n",
    "    aptitud = obtener_aptitud(genes,objetivo)\n",
    "    return Cromosoma(genes, aptitud)\n",
    "\n",
    "\n",
    "def _mutar(padre, geneSet, objetivo):\n",
    "    '''\n",
    "    Función de mutación que reemplaza 1 gen de la contraseña\n",
    "    '''\n",
    "    genesDelNiño = padre.Genes[:]\n",
    "    idx = random.randrange(0, len(padre.Genes))\n",
    "     #Alterno es un carácter de emergencia por si resulta que \n",
    "        #la mutación es el mismo gen\n",
    "    nuevoGen, alterno = random.sample(geneSet, 2)\n",
    "    genesDelNiño[idx] = alterno if nuevoGen == genesDelNiño[idx] else nuevoGen\n",
    "    aptitud = obtener_aptitud(genesDelNiño,objetivo)\n",
    "    return Cromosoma(genesDelNiño, aptitud)\n",
    "\n",
    "def _cruzar(padre1,padre2, objetivo):\n",
    "    '''\n",
    "    Función de cruza entre dos padres para obtener un hijo a partir de ahí\n",
    "    '''\n",
    "    genesDelNiño = padre1.Genes[:]\n",
    "    idxs = random.sample(range(len(genesDelNiño)),int(len(genesDelNiño)/2))\n",
    "    for idx in idxs:\n",
    "        genesDelNiño[idx] = padre2.Genes[idx]\n",
    "    aptitud = obtener_aptitud(genesDelNiño,objetivo)\n",
    "    return Cromosoma(genesDelNiño, aptitud)\n",
    "\n",
    "\n",
    "class Cromosoma:\n",
    "    '''\n",
    "    Clase que irá guardando el cromosoma y su distancia c.r al problema \n",
    "    a estudiar\n",
    "    '''\n",
    "    def __init__(self, genes, aptitud):\n",
    "        self.Genes = genes\n",
    "        self.Aptitud = aptitud\n",
    "        \n",
    "        \n",
    "        \n",
    "def mostrar(candidato, horaInicio):\n",
    "    '''\n",
    "    Muestra la evolución del algoritmo\n",
    "    '''\n",
    "    if len(candidato.Genes)>50:\n",
    "        print(\"String: {}\\t Error:{}\".format(''.join(candidato.Genes[:50]),\n",
    "                                             candidato.Aptitud))\n",
    "    else:\n",
    "        print(\"String: {}\\t Error:{}\".format(''.join(candidato.Genes),\n",
    "                                             candidato.Aptitud))\n"
   ]
  },
  {
   "cell_type": "code",
   "execution_count": 3,
   "metadata": {
    "ExecuteTime": {
     "end_time": "2021-02-09T23:07:05.745021Z",
     "start_time": "2021-02-09T23:07:05.717821Z"
    }
   },
   "outputs": [],
   "source": [
    "    \n",
    "def sig_generacion(geneSet,poblacion, objetivo,\n",
    "                   Padres=[],pmutar = 0.5, pelite = 0.4, resultado=True):\n",
    "    '''\n",
    "    Dada una generación, regresa la siguiente generación de genes\n",
    "    '''\n",
    "    \n",
    "    if Padres == []:\n",
    "        Padres = [_generar_padre(geneSet, objetivo)\n",
    "                  for padre in range(poblacion)]\n",
    "    Padres = sorted(Padres, key = lambda x: x.Aptitud)\n",
    "    \n",
    "    \n",
    "    \n",
    "    nueva_generacion = []\n",
    "    \n",
    "    for padre in Padres:\n",
    "        if random.random() < pmutar:\n",
    "            # Mutar\n",
    "            gen_a_mutar = 0\n",
    "            while (random.random()>pelite and gen_a_mutar<len(Padres)-1):\n",
    "                gen_a_mutar += 1\n",
    "            \n",
    "            mutacion = _mutar(Padres[gen_a_mutar] ,geneSet, objetivo)\n",
    "            nueva_generacion.append(mutacion)\n",
    "        else:\n",
    "            # Cruzar\n",
    "            gen_1 = 0\n",
    "            while (random.random()<pelite and gen_1<len(Padres)-1):\n",
    "                gen_1 += 1\n",
    "            \n",
    "            gen_2 = 0\n",
    "            while (random.random()<pelite and gen_1 != gen_2 and \n",
    "                   gen_2<len(Padres)-2):\n",
    "                gen_2 += 1 + (gen_1==gen_2) #Para evitar que sean iguales\n",
    "                \n",
    "            cruza = _cruzar(Padres[gen_1],Padres[gen_2],objetivo)\n",
    "            nueva_generacion.append(cruza)\n",
    "    \n",
    "    \n",
    "    nueva_generacion = sorted(nueva_generacion, key = lambda x: x.Aptitud)\n",
    "    if resultado: \n",
    "        #print([x.Aptitud for x in nueva_generacion])\n",
    "        mostrar(nueva_generacion[0],time.time())\n",
    "        \n",
    "    return nueva_generacion\n",
    "\n",
    "def iteracion_generaciones(geneSet,poblacion, objetivo, iteraciones, Padres=[],\n",
    "                           pmutar = 0.5, pelite = 0.8,seed=None):\n",
    "    random.seed(seed)\n",
    "    Padres = [_generar_padre(geneSet, objetivo)\n",
    "                  for padre in range(poblacion)]\n",
    "    resultado = False\n",
    "    errores = []\n",
    "    for iteracion in range(iteraciones):\n",
    "        \n",
    "        if iteracion%int(iteraciones/20) == 0:\n",
    "            resultado = not resultado\n",
    "            \n",
    "        Padres = sig_generacion(geneSet,poblacion,objetivo,Padres,\n",
    "                                resultado=resultado)\n",
    "        errores.append(Padres[0].Aptitud)\n",
    "        \n",
    "        if iteracion%int(iteraciones/20) == 0:\n",
    "            resultado = not resultado\n",
    "    plt.plot(errores)\n",
    "    return Padres[0]"
   ]
  },
  {
   "cell_type": "code",
   "execution_count": 4,
   "metadata": {
    "ExecuteTime": {
     "end_time": "2021-02-09T23:07:07.152912Z",
     "start_time": "2021-02-09T23:07:05.748143Z"
    }
   },
   "outputs": [
    {
     "name": "stdout",
     "output_type": "stream",
     "text": [
      "String: hFQa\t Error:2\n",
      "String: hola\t Error:0\n",
      "String: hola\t Error:0\n",
      "String: hola\t Error:0\n",
      "String: hola\t Error:0\n",
      "String: hola\t Error:0\n",
      "String: hola\t Error:0\n",
      "String: hola\t Error:0\n",
      "String: hola\t Error:0\n",
      "String: hola\t Error:0\n",
      "String: hola\t Error:0\n",
      "String: hola\t Error:0\n",
      "String: hola\t Error:0\n",
      "String: hola\t Error:0\n",
      "String: hola\t Error:0\n",
      "String: hola\t Error:0\n",
      "String: hola\t Error:0\n",
      "String: hola\t Error:0\n",
      "String: hola\t Error:0\n",
      "String: hola\t Error:0\n"
     ]
    },
    {
     "data": {
      "text/plain": [
       "<__main__.Cromosoma at 0x7fb91c4f70a0>"
      ]
     },
     "execution_count": 4,
     "metadata": {},
     "output_type": "execute_result"
    },
    {
     "data": {
      "image/png": "[encoded data removed]",
      "text/plain": [
       "<Figure size 432x288 with 1 Axes>"
      ]
     },
     "metadata": {
      "needs_background": "light"
     },
     "output_type": "display_data"
    }
   ],
   "source": [
    "objetivo = 'Hola, este es un mensaje de prueba para evaluar el desempeño del algoritmo'\n",
    "geneSet = \" abcdefghijklmnñopqrstuvwxyzABCDEFGHIJKLMNÑOPQRSTUVWXYZ!¡.,\"\n",
    "\n",
    "iteracion_generaciones(geneSet,100,'hola',1000)"
   ]
  },
  {
   "cell_type": "code",
   "execution_count": 5,
   "metadata": {
    "ExecuteTime": {
     "end_time": "2021-02-09T23:07:07.180719Z",
     "start_time": "2021-02-09T23:07:07.155167Z"
    }
   },
   "outputs": [],
   "source": [
    "def crear_hijo(Padres,pmutar,pelite,objetivo):\n",
    "    \n",
    "    if random.random() < pmutar:\n",
    "        # Mutar\n",
    "        gen_a_mutar = 0\n",
    "        #mutacion = Padres[gen_a_mutar]\n",
    "        while (random.random()>pelite and gen_a_mutar<len(Padres)-1):\n",
    "            gen_a_mutar += 1\n",
    "    \n",
    "        mutacion = _mutar(Padres[gen_a_mutar] ,geneSet, objetivo)\n",
    "\n",
    "        return mutacion\n",
    "        \n",
    "    else:\n",
    "        # Cruzar\n",
    "        gen_1 = 0\n",
    "        while (random.random()<pelite and gen_1<len(Padres)-1):\n",
    "            gen_1 += 1\n",
    "\n",
    "        gen_2 = 0\n",
    "        while (random.random()<pelite and gen_1 != gen_2 and \n",
    "               gen_2<len(Padres)-2):\n",
    "            gen_2 += 1 + (gen_1==gen_2) #Para evitar que sean iguales\n",
    "\n",
    "        cruza = _cruzar(Padres[gen_1],Padres[gen_2],objetivo)\n",
    "        return cruza\n",
    "    \n",
    "def sig_generacion_paralelo(geneSet,poblacion, objetivo,\n",
    "                   Padres=[],pmutar = 0.5, pelite = 0.4, resultado=True):\n",
    "    '''\n",
    "    Dada una generación, regresa la siguiente generación de genes\n",
    "    '''\n",
    "    \n",
    "    if Padres == []:\n",
    "        Padres = [_generar_padre(longitudObjetivo, geneSet, objetivo)\n",
    "                  for padre in range(poblacion)]\n",
    "    Padres = sorted(Padres, key = lambda x: x.Aptitud)\n",
    "    \n",
    "    \n",
    "    \n",
    "    nueva_generacion = []\n",
    "    \n",
    "\n",
    "    # MP\n",
    "    pool = mp.Pool(mp.cpu_count())\n",
    "    parametros = [(Padres, pmutar, pelite, objetivo) for _ in range(poblacion)]\n",
    "    nueva_generacion = pool.starmap(crear_hijo,parametros)\n",
    "#    pool.close()\n",
    "#    pool.join()\n",
    "    #nueva_generacion = nueva_generacion.get(timeout=1)\n",
    "    nueva_generacion = sorted(nueva_generacion, key = lambda x: x.Aptitud)\n",
    "    \n",
    "    if resultado: \n",
    "        \n",
    "        #print([x.Aptitud for x in nueva_generacion])\n",
    "        mostrar(nueva_generacion[0],time.time())\n",
    "        \n",
    "    return nueva_generacion\n",
    "\n",
    "def iteracion_generaciones_paralelo(geneSet,poblacion, objetivo, iteraciones, \n",
    "                                    Padres=[], pmutar = 0.5, pelite = 0.8,\n",
    "                                    seed=None):\n",
    "    random.seed(seed)\n",
    "    Padres = [_generar_padre(geneSet, objetivo)\n",
    "                  for padre in range(poblacion)]\n",
    "    resultado = False\n",
    "    errores = []\n",
    "    \n",
    "    for iteracion in range(iteraciones):\n",
    "        \n",
    "        #print([padre.Genes for padre in Padres])\n",
    "        if iteracion%int(iteraciones/20) == 0:\n",
    "            resultado = not resultado\n",
    "            \n",
    "        Padres = sig_generacion_paralelo(geneSet,poblacion,objetivo,Padres,\n",
    "                                resultado=resultado)\n",
    "        \n",
    "        errores.append(Padres[0].Aptitud)\n",
    "        \n",
    "        if iteracion%int(iteraciones/20) == 0:\n",
    "            resultado = not resultado\n",
    "            \n",
    "    plt.plot(errores)\n",
    "    return Padres[0]"
   ]
  },
  {
   "cell_type": "code",
   "execution_count": 18,
   "metadata": {
    "ExecuteTime": {
     "end_time": "2021-02-09T23:12:54.616410Z",
     "start_time": "2021-02-09T23:12:54.573155Z"
    }
   },
   "outputs": [],
   "source": [
    "def crear_hijo_concurrente(Padres,pmutar,pelite,objetivo,q):\n",
    "\n",
    "    if random.random() < pmutar:\n",
    "        # Mutar\n",
    "        gen_a_mutar = 0\n",
    "        #mutacion = Padres[gen_a_mutar]\n",
    "        while (random.random()>pelite and gen_a_mutar<len(Padres)-1):\n",
    "            gen_a_mutar += 1\n",
    "    \n",
    "        mutacion = _mutar(Padres[gen_a_mutar] ,geneSet, objetivo)\n",
    "\n",
    "        q.put(mutacion)\n",
    "        \n",
    "    else:\n",
    "        # Cruzar\n",
    "        gen_1 = 0\n",
    "        while (random.random()<pelite and gen_1<len(Padres)-1):\n",
    "            gen_1 += 1\n",
    "\n",
    "        gen_2 = 0\n",
    "        while (random.random()<pelite and gen_1 != gen_2 and \n",
    "               gen_2<len(Padres)-2):\n",
    "            gen_2 += 1 + (gen_1==gen_2) #Para evitar que sean iguales\n",
    "\n",
    "        cruza = _cruzar(Padres[gen_1],Padres[gen_2],objetivo)\n",
    "        q.put(cruza)\n",
    "    \n",
    "def sig_generacion_concurrente(geneSet,poblacion, objetivo,\n",
    "                   Padres=[],pmutar = 0.5, pelite = 0.4, resultado=True):\n",
    "    '''\n",
    "    Dada una generación, regresa la siguiente generación de genes\n",
    "    '''\n",
    "    \n",
    "    if Padres == []:\n",
    "        Padres = [_generar_padre(longitudObjetivo, geneSet, objetivo)\n",
    "                  for padre in range(poblacion)]\n",
    "    Padres = sorted(Padres, key = lambda x: x.Aptitud)\n",
    "    \n",
    "    \n",
    "    \n",
    "    nueva_generacion = []\n",
    "    \n",
    "\n",
    "    # MP\n",
    "    q = mp.Queue()\n",
    "    \n",
    "    procesos = [mp.Process(target=crear_hijo_concurrente,\n",
    "                           args=(Padres,pmutar,pelite,objetivo,q)) \n",
    "                for i in range(poblacion)]\n",
    "    \n",
    "    for proceso in procesos:\n",
    "        proceso.start()\n",
    "        \n",
    "    for proceso in procesos:\n",
    "        proceso.join()\n",
    "        \n",
    "    while q.empty() is False:\n",
    "        nueva_generacion.append(q.get())\n",
    "    \n",
    "\n",
    "    nueva_generacion = sorted(nueva_generacion, key = lambda x: x.Aptitud)\n",
    "    \n",
    "    if resultado: \n",
    "        \n",
    "        #print([x.Aptitud for x in nueva_generacion])\n",
    "        mostrar(nueva_generacion[0],time.time())\n",
    "        \n",
    "    return nueva_generacion\n",
    "\n",
    "def iteracion_generaciones_concurrente(geneSet,poblacion, objetivo, iteraciones, \n",
    "                                    Padres=[], pmutar = 0.5, pelite = 0.8,\n",
    "                                    seed=None):\n",
    "    random.seed(seed)\n",
    "    Padres = [_generar_padre(geneSet, objetivo)\n",
    "                  for padre in range(poblacion)]\n",
    "    resultado = False\n",
    "    errores = []\n",
    "    \n",
    "    for iteracion in range(iteraciones):\n",
    "        \n",
    "        #print([padre.Genes for padre in Padres])\n",
    "        if iteracion%int(iteraciones/20) == 0:\n",
    "            resultado = not resultado\n",
    "            \n",
    "        Padres = sig_generacion_concurrente(geneSet,poblacion,objetivo,Padres,\n",
    "                                resultado=resultado)\n",
    "        \n",
    "        errores.append(Padres[0].Aptitud)\n",
    "        \n",
    "        if iteracion%int(iteraciones/20) == 0:\n",
    "            resultado = not resultado\n",
    "            \n",
    "    plt.plot(errores)\n",
    "    return Padres[0]"
   ]
  },
  {
   "cell_type": "code",
   "execution_count": 54,
   "metadata": {
    "ExecuteTime": {
     "end_time": "2021-02-09T23:44:56.167195Z",
     "start_time": "2021-02-09T23:44:56.142798Z"
    }
   },
   "outputs": [],
   "source": [
    "import psutil\n",
    "import os\n",
    "import matplotlib.pyplot as plt\n",
    "\n",
    "def cpu_usage(q,finish):\n",
    "    \n",
    "    usage = []    \n",
    "    while not finish.value:\n",
    "        time.sleep(0.05)\n",
    "        usage.append(psutil.cpu_percent(percpu=True))\n",
    "    q.put(usage)\n",
    "\n",
    "objetivo = open('Lorem ipsum')\n",
    "objetivo = objetivo.read()[:500]\n",
    "\n",
    "\n",
    "\n",
    "\n",
    "def comparacion(objetivo,poblacion=mp.cpu_count(), iteraciones=500):\n",
    "    \n",
    "    q = mp.Queue()\n",
    "    \n",
    "    finish = mp.Value('i', False)\n",
    "    cpu_process_secuencial = mp.Process(target=cpu_usage,args=(q,finish))\n",
    "    cpu_process_secuencial.start()\n",
    "    start = time.time()\n",
    "    iteracion_generaciones(geneSet,poblacion,objetivo,iteraciones,\n",
    "                           pmutar=0.8,pelite=0.5)\n",
    "    end_secuencial = (time.time()-start)\n",
    "    finish.value = True    \n",
    "    cpu_process_secuencial.join()\n",
    "    usage_secuencial= q.get()\n",
    "    \n",
    "    finish.value = False\n",
    "    cpu_process_concurrente = mp.Process(target=cpu_usage,args=(q,finish))\n",
    "    cpu_process_concurrente.start()\n",
    "    start_concurrente = time.time()\n",
    "    iteracion_generaciones_concurrente(geneSet,poblacion,objetivo,iteraciones,\n",
    "                                       pmutar=0.8,pelite=0.5)\n",
    "    end_concurrente = (time.time()- start_concurrente)\n",
    "    finish.value = True\n",
    "    cpu_process_concurrente.join()\n",
    "    usage_concurrente= q.get()\n",
    "\n",
    "    \n",
    "    finish.value = False\n",
    "    cpu_process_paralelo = mp.Process(target=cpu_usage,args=(q,finish))\n",
    "    cpu_process_paralelo.start()\n",
    "    start_paralelo = time.time()\n",
    "    iteracion_generaciones_paralelo(geneSet,poblacion,objetivo,iteraciones,\n",
    "                                    pmutar=0.8,pelite=0.5)\n",
    "    end_paralelo = (time.time()- start_paralelo)\n",
    "    finish.value = True\n",
    "    cpu_process_paralelo.join()\n",
    "    usage_paralelo= q.get()\n",
    "    \n",
    "\n",
    "    print(f'Secuencial: {end_secuencial}\\t Concurrente:{end_concurrente}\\t Paralelo: {end_paralelo}')\n",
    "    return usage_secuencial, usage_concurrente, usage_paralelo"
   ]
  },
  {
   "cell_type": "code",
   "execution_count": 41,
   "metadata": {
    "ExecuteTime": {
     "end_time": "2021-02-09T23:40:01.401095Z",
     "start_time": "2021-02-09T23:39:16.238635Z"
    }
   },
   "outputs": [
    {
     "name": "stdout",
     "output_type": "stream",
     "text": [
      "String: OZgKWnbW¡YtoJUPXJn¡ YUwIlpTGcMNyBGmugdjXR,kcÑsAzhT\t Error:487\n",
      "String: rZSKWnbHqIt,JUPXua¡QYEwmD.OGclpyBfmigdjVRoF!ÑsAzhT\t Error:486\n",
      "String: rZSKWnbHqIt,JUPXua¡QYEwmD.OGclpyBfmigdjVRoF!ÑsAzhT\t Error:486\n",
      "String: rZSKWnbHqIt,JUPXua¡QYEwmD.OGclpyBfmigdjVRoF!ÑsAzhT\t Error:486\n",
      "String: rZSKWnbHqIt,dUPXua¡QYEwmD.OGclpyBfmigdjVRoF!ÑsAzhT\t Error:485\n",
      "String: rZSKWnbHqIt,dUPXua¡QYEwmD.OGclpyBñmigdjVRVF!ÑsAzhT\t Error:484\n",
      "String: rZSKWnbHqIt,dUPXua¡QYEwmD.OGclpyBfmigdjDRoF!ÑsAghT\t Error:482\n",
      "String: rZSKgnbHqIt,dUPXua¡QYEwmD.OGclpyBfmigdjDRoF!ÑsAghT\t Error:481\n",
      "String: rZSKgnbHqIt,dUPXua¡QYEwmD.OGclpyBfmigdjDRoF!ÑsAghT\t Error:481\n",
      "String: rZSKgFbHqIt,dUPXua¡QYEwmD.OGclpyBfmigdjDRoF!ÑsAghT\t Error:480\n",
      "String: rZSKgFbHqIt,dUPXua¡QYEwmDVOGclpyBfmHgdjDRoF!ÑsAghT\t Error:478\n",
      "String: rZSKgFbHqIt,dUPXua¡QYEwmDjOGclpyBfmHUdjDRoF!ÑsAghT\t Error:477\n",
      "String: rZSKgFbHqIt,dUPXua¡QYEwmDjOGclpyBfmtUdjDRdF!ÑsAghT\t Error:475\n",
      "String: rZSKgFbHqIt,dUPXua¡QYEwmDjOGclpyBfmtUdñDRdF!ÑsAghT\t Error:475\n",
      "String: rZSKgFbkqIt,dUPXua¡QYEwmLjOGclpyBfmtUdñDRdF!ÑsAghT\t Error:472\n",
      "String: rZSKgFbkqIt,dUPXua¡QYEwmLjOGclpyBfmtUdñDRdF!ÑsAghT\t Error:470\n",
      "String: rZSKgFbkqIt,dUPXua¡QYEwmLjOGclpyBfmtUdñDRdF!ÑsAghT\t Error:470\n",
      "String: rZSKgFbkqIt,dUPXua¡QYEwmLjOGclpyBfmtUdñDRdF!ÑsAghT\t Error:469\n",
      "String: rZSKgFbkqIt,dUPXua¡QYEvmLjOGclpyBfmtkdñDRdF!ÑsAghT\t Error:469\n",
      "String: rZSKgFbkqIt,dUPXua¡QYEvmLjOGclpyBfmtkdñDRdF!ÑsAghT\t Error:469\n",
      "String: ÑKFvA,.!eapN¡qlzgJYZVGIDxoBiTURtbksh CujcPrnELwSOm\t Error:488\n",
      "String: ÑKFvA,.!eapN¡qlzgJYZVGIDxoBiTURtbkshiCujcPrqELwSOm\t Error:486\n",
      "String: ÑKFvA,.!eapN¡qlzgJYZVGIDxoBiTURtbkshiCujcPrqELwSOm\t Error:485\n",
      "String: ÑKFvA,.!eapN¡qlzgJYZVGIDxoBiTURtbkshiCujcPrqELwSOm\t Error:484\n",
      "String: ÑKFvAG.!eapN¡qlzgJYZVGIDxoBiTURtbkshiuujcPrqELwSOm\t Error:482\n",
      "String: ÑKFvAG.!eapN¡qlzgJYZVGIDxoBiTURtbkshiuujcPMqgLwSOm\t Error:481\n",
      "String: ÑKFvAG.!eapN¡qlzgJYZVGIDxoBiTURtbkshiuujcPMqgLwSOm\t Error:479\n",
      "String: ÑKFvAG.!eapN¡qlzgJYZVGIDxo!iTURtbkshiuujcPMqsLwSOm\t Error:479\n",
      "String: ÑKFvAG.!eapN¡qlzgJYZVGIDxoBiTURtbkshiuujcPMqsLwSOm\t Error:475\n",
      "String: ÑKFvAG.!eapN¡qlzgJYZVGIDxoBiTURtbkshiuujcPMqsLwSOm\t Error:473\n",
      "String: ÑKFvAG.!eapN¡qlzgxYZVGUDxoBiOUFtbkshiuujcPMqsLwSOm\t Error:472\n",
      "String: ÑKFvAG.!eaGN¡qlzgxYZVGUDxoBiOURtbkshiuujcPMqsLwSOA\t Error:471\n",
      "String: ÑKFvAG.!eaGN¡qlzgxYZVGUDxoBiOURfbkshiuujcPMqsLwSOA\t Error:471\n",
      "String: ÑKFvAG.!eaGN¡qlzgxYZVGUDxoBiOURfbkshiuujcPMqsLw OA\t Error:469\n",
      "String: ÑKFvAG.!eaGN¡qlzgxYZVGUDxoBiOURfbkshiuujcPMqsLw OL\t Error:467\n",
      "String: ÑKFvbG.!eaGN¡qlzgxYZVGUDxoBiOURfbkshiuujcPMqsLw OL\t Error:466\n",
      "String: ÑKFvbG.!eaGN¡dlzgxYZVGUDxoBiOURfbkshiuujcPMqsLw OL\t Error:466\n",
      "String: ÑKFvbGu!eaGN¡dlzgxYZVGUDxoBiOUnfbGshiuujcPMqsLwuOL\t Error:465\n",
      "String: ÑKFvbGu!eaGN¡dlzgxYZVGUDxoBiOUnfbG,hiuujcPMqsLwuOL\t Error:465\n",
      "String: ÑKFvbGu!eaGN¡dlzgxYZVGUDxoBiOUnfbG,hiurjcPMqsLwuOL\t Error:463\n",
      "String: PCTJ fVylYA!ÑñSWwFoGZiXQr,NdjKcHRusBhx¡agvMeEDUIOk\t Error:488\n",
      "String: PCTJ fVylYA!ÑDSWwFoGZiXQr,VdjKcHRusBhx¡agvMeE.UIOk\t Error:486\n",
      "String: PCTJ fVylYA!ÑDSWwFoGZmXQr,VdjKcHRusBhx¡agvMeE.UIOk\t Error:484\n",
      "String: PCTJ fVylYA!ÑDSWwFoGZmXQr,VdjKcHRusBhx¡agvMeE.UIOk\t Error:484\n",
      "String: PCTJ fVylYA!ÑDSWwFoGZmXQr,VdjKcHRusBhx¡agvMeE.UIOk\t Error:482\n",
      "String: PCTJ fVylYA!ÑDSWwFoGZmXQr,Vd KcHRusBhx¡agvMeE.UIOk\t Error:481\n",
      "String: PCTJ fVylYA!ÑDSWwFoGZmXQr,Vd KcHRusBhx¡agvMeE.UIOk\t Error:480\n",
      "String: PCTJ fVylYA!ÑDSWwFoGZmXQr,Vd KcHRusBhx¡agvMeE.UIOk\t Error:480\n",
      "String: PCTJ fVylVA!ÑDSWwFoGZmXQr,Vd KcHRusBhx¡agdMeE.UIOk\t Error:479\n",
      "String: PCTJ fVylVA!ÑDSWwFoGZmXQr,Vd KcHRusBhx¡agdMeE.UIOk\t Error:478\n",
      "String: PCTJ fVylVA!ÑDSWwFoGZmXQr,Vd KcHRusBhx¡agdMeE.UIOk\t Error:475\n",
      "String: PCTJ fVylVA!ÑDSWwF,GZmXQr,Vd KcHRusBhx¡agdMeE.UIOk\t Error:475\n",
      "String: PCTJ fVylVA!ÑDSWwF,GZmXQr,Vd KcHRusBhx¡agdMeE.UIOk\t Error:475\n",
      "String: PCTJ fVylVS!ÑDSWwF,GZmXVr,Vd KcHRusBhx¡agdMeE.UIOk\t Error:474\n",
      "String: PCTJ fVylVS!ÑDSWwF,GZmXVr,Vd KcHRusBhx¡agdzeE.UIOk\t Error:473\n",
      "String: PCTJ fVylVS!dDSWwF,GZmXVr,Vd KcHRusBhx¡agdzeE.UIOk\t Error:471\n",
      "String: PCTJ fVylVS!dDSWwF,GZmXVr,Vd KcHRusBtx¡agdzeE.UIOk\t Error:470\n",
      "String: PCTJ fVylVS!dDSWwF,GkmXVr,Vd KcHRusBtx¡agdzeE.UIzk\t Error:469\n",
      "String: PCTJ fVylVS!dDSWwF,GkmXVr,Vd KcHRusBtx¡agdzeE.UIzk\t Error:469\n",
      "String: PCTJ fVylVSTdDSWwF,GkmXVr,Vd KcHRusBtx¡aLdzeE.UIzk\t Error:466\n",
      "Secuencial: 0.5010638236999512\t Concurrente:21.960498571395874\t Paralelo: 22.432625770568848\n"
     ]
    },
    {
     "data": {
      "image/png": "[encoded data removed]",
      "text/plain": [
       "<Figure size 432x288 with 1 Axes>"
      ]
     },
     "metadata": {
      "needs_background": "light"
     },
     "output_type": "display_data"
    }
   ],
   "source": [
    "secuencial, concurrente, paralelo = comparacion(objetivo,iteraciones=400)"
   ]
  },
  {
   "cell_type": "code",
   "execution_count": 55,
   "metadata": {
    "ExecuteTime": {
     "end_time": "2021-02-09T23:45:04.814199Z",
     "start_time": "2021-02-09T23:45:04.795576Z"
    }
   },
   "outputs": [],
   "source": [
    "\n",
    "def plot_cpu(objetivo,poblacion,iteraciones):\n",
    "    secuencial, concurrente, paralelo = comparacion(objetivo,poblacion,iteraciones)\n",
    "    uso_cpu = [(secuencial,'secuencial'), (concurrente,'concurrente'), \n",
    "               (paralelo,'paralelo')]\n",
    "\n",
    "    for modelo,nombre in uso_cpu:\n",
    "        plt.figure(figsize=(15,5))\n",
    "        usage_max = min(len(modelo),50)\n",
    "        usage = modelo[:usage_max]\n",
    "        for i in range(mp.cpu_count()):\n",
    "            plt.plot([cpu[i] for cpu in usage], label = f'CPU{i}')\n",
    "        plt.legend(loc='best')\n",
    "        plt.title(f'Uso del cpu en modelo {nombre}')\n",
    "        plt.show()"
   ]
  },
  {
   "cell_type": "code",
   "execution_count": null,
   "metadata": {
    "ExecuteTime": {
     "start_time": "2021-02-09T23:45:05.253Z"
    }
   },
   "outputs": [
    {
     "name": "stdout",
     "output_type": "stream",
     "text": [
      "String: KwOdkOEJñsN KxÑqÑTT,aMr!SRmP wIkFnAptnzoZevjiYQuHc\t Error:476\n",
      "String: iAOdkscGWGN JxTqÑYeB¡DrfShVPVwIXsLnptnooFjvzB.QMJg\t Error:469\n",
      "String: vAOMksCGWmN JxÑqÑTT,¡DrWfRVP wIXFHnptnooFjvjiYQuJg\t Error:465\n",
      "String: KAOMksEGñmN JxTqÑTT,¡Dr!fhVPVwIXFHnptnooFjvjiYQuJg\t Error:461\n",
      "String: vwOMksCGWmN JxÑqÑTe,¡DrWfhVP wIXFHnptnooZjvjiYQMJg\t Error:459\n",
      "String: KwOdkOEGWmN JxÑqÑTT,¡DrWShVP wIXFLnptnooZjvji.QuJg\t Error:458\n",
      "String: KwOdkOEGWmN JxÑqÑTT,¡DrWShVP wIXFLnptnooZjvjiYQuJg\t Error:457\n",
      "String: KwOdkOEGWmN JxÑqÑTT,¡DrWShVP wIXFLnptnooZjvjiYQuJg\t Error:456\n",
      "String: KwOdksEGWmN JxÑqÑTe,¡DrWShVP wIXFLnptnooZjvjiYQuJg\t Error:455\n",
      "String: KwOdksEGWmN JxÑqÑTe,¡DrWShVP wIXFLnptnooZjvjiYQuJg\t Error:454\n",
      "String: KwOdkOCGWmN JxÑqÑTe,¡DrWShVP wIXFLnptnooZjvjiYQuJg\t Error:453\n",
      "String: KwOdkOCGWmN JxÑqÑTe,¡DrWShVP wIXFLnptnooZjvjiYQuJg\t Error:452\n",
      "String: KwOdkOCGWmN JxÑqÑTe,¡DrWShVP wIXFLnptnooZjvjiYQuJg\t Error:451\n",
      "String: KwOdkOCGWmN JxÑqrTe,¡DrWShVP wIXFLnptnooZjvjiYQuJg\t Error:450\n",
      "String: KwOdkOCGWmN JxÑqrTe,¡DrWShVP wIXFLnptnooZjvjiYQuJg\t Error:448\n",
      "String: KwOdkOCGWmN JxÑqrTe,¡DrWShVP wIXFLnptnooZjvjiYQuJg\t Error:447\n",
      "String: KwOdkOCGWmN JxÑqrTe,¡DrWShVP wIXFLnptnooZjvjiYQuJg\t Error:446\n",
      "String: KwOdkOCGWmN JxÑqrTe,¡DrWShVP wIXFLnptnooZjvjiYQuJg\t Error:445\n",
      "String: KwOdkOCGWmN JxÑqrTe,¡DrWShVP wIXFLnptnooZjvjiYQuJg\t Error:443\n",
      "String: KwOdkOCGWmN JxÑqrTe,¡DrWShVP wIXFLnptnooZjvjiYQuJg\t Error:442\n"
     ]
    }
   ],
   "source": [
    "plot_cpu(objetivo,1000,20)"
   ]
  },
  {
   "cell_type": "code",
   "execution_count": 9,
   "metadata": {
    "ExecuteTime": {
     "end_time": "2021-02-09T23:07:23.044716Z",
     "start_time": "2021-02-09T23:07:22.985049Z"
    }
   },
   "outputs": [
    {
     "name": "stdout",
     "output_type": "stream",
     "text": [
      "[5, 6, 7]\n"
     ]
    },
    {
     "name": "stderr",
     "output_type": "stream",
     "text": [
      "Process ForkPoolWorker-1003:\n",
      "Process ForkPoolWorker-1002:\n",
      "Process ForkPoolWorker-1009:\n",
      "Process ForkPoolWorker-1005:\n",
      "Process ForkPoolWorker-1006:\n",
      "Process ForkPoolWorker-1007:\n",
      "Process ForkPoolWorker-1004:\n",
      "Traceback (most recent call last):\n",
      "Traceback (most recent call last):\n",
      "Traceback (most recent call last):\n",
      "Process ForkPoolWorker-1008:\n",
      "  File \"/home/oswald/anaconda3/lib/python3.8/multiprocessing/process.py\", line 315, in _bootstrap\n",
      "    self.run()\n",
      "Traceback (most recent call last):\n",
      "Traceback (most recent call last):\n",
      "  File \"/home/oswald/anaconda3/lib/python3.8/multiprocessing/queues.py\", line 355, in get\n",
      "    with self._rlock:\n",
      "  File \"/home/oswald/anaconda3/lib/python3.8/multiprocessing/process.py\", line 315, in _bootstrap\n",
      "    self.run()\n",
      "Traceback (most recent call last):\n",
      "  File \"/home/oswald/anaconda3/lib/python3.8/multiprocessing/process.py\", line 315, in _bootstrap\n",
      "    self.run()\n",
      "  File \"/home/oswald/anaconda3/lib/python3.8/multiprocessing/pool.py\", line 114, in worker\n",
      "    task = get()\n",
      "  File \"/home/oswald/anaconda3/lib/python3.8/multiprocessing/process.py\", line 108, in run\n",
      "    self._target(*self._args, **self._kwargs)\n",
      "  File \"/home/oswald/anaconda3/lib/python3.8/multiprocessing/process.py\", line 108, in run\n",
      "    self._target(*self._args, **self._kwargs)\n",
      "  File \"/home/oswald/anaconda3/lib/python3.8/multiprocessing/process.py\", line 315, in _bootstrap\n",
      "    self.run()\n",
      "Traceback (most recent call last):\n",
      "  File \"/home/oswald/anaconda3/lib/python3.8/multiprocessing/process.py\", line 315, in _bootstrap\n",
      "    self.run()\n",
      "KeyboardInterrupt\n",
      "  File \"/home/oswald/anaconda3/lib/python3.8/multiprocessing/pool.py\", line 114, in worker\n",
      "    task = get()\n",
      "Traceback (most recent call last):\n",
      "  File \"/home/oswald/anaconda3/lib/python3.8/multiprocessing/process.py\", line 108, in run\n",
      "    self._target(*self._args, **self._kwargs)\n",
      "  File \"/home/oswald/anaconda3/lib/python3.8/multiprocessing/process.py\", line 108, in run\n",
      "    self._target(*self._args, **self._kwargs)\n",
      "  File \"/home/oswald/anaconda3/lib/python3.8/multiprocessing/process.py\", line 108, in run\n",
      "    self._target(*self._args, **self._kwargs)\n",
      "  File \"/home/oswald/anaconda3/lib/python3.8/multiprocessing/pool.py\", line 114, in worker\n",
      "    task = get()\n",
      "  File \"/home/oswald/anaconda3/lib/python3.8/multiprocessing/process.py\", line 315, in _bootstrap\n",
      "    self.run()\n",
      "  File \"/home/oswald/anaconda3/lib/python3.8/multiprocessing/process.py\", line 315, in _bootstrap\n",
      "    self.run()\n",
      "  File \"/home/oswald/anaconda3/lib/python3.8/multiprocessing/synchronize.py\", line 95, in __enter__\n",
      "    return self._semlock.__enter__()\n",
      "  File \"/home/oswald/anaconda3/lib/python3.8/multiprocessing/pool.py\", line 114, in worker\n",
      "    task = get()\n",
      "  File \"/home/oswald/anaconda3/lib/python3.8/multiprocessing/process.py\", line 108, in run\n",
      "    self._target(*self._args, **self._kwargs)\n",
      "  File \"/home/oswald/anaconda3/lib/python3.8/multiprocessing/process.py\", line 108, in run\n",
      "    self._target(*self._args, **self._kwargs)\n",
      "  File \"/home/oswald/anaconda3/lib/python3.8/multiprocessing/pool.py\", line 114, in worker\n",
      "    task = get()\n",
      "  File \"/home/oswald/anaconda3/lib/python3.8/multiprocessing/process.py\", line 108, in run\n",
      "    self._target(*self._args, **self._kwargs)\n",
      "  File \"/home/oswald/anaconda3/lib/python3.8/multiprocessing/queues.py\", line 355, in get\n",
      "    with self._rlock:\n",
      "  File \"/home/oswald/anaconda3/lib/python3.8/multiprocessing/queues.py\", line 356, in get\n",
      "    res = self._reader.recv_bytes()\n",
      "  File \"/home/oswald/anaconda3/lib/python3.8/multiprocessing/process.py\", line 315, in _bootstrap\n",
      "    self.run()\n",
      "  File \"/home/oswald/anaconda3/lib/python3.8/multiprocessing/synchronize.py\", line 95, in __enter__\n",
      "    return self._semlock.__enter__()\n",
      "  File \"/home/oswald/anaconda3/lib/python3.8/multiprocessing/queues.py\", line 355, in get\n",
      "    with self._rlock:\n",
      "  File \"/home/oswald/anaconda3/lib/python3.8/multiprocessing/connection.py\", line 216, in recv_bytes\n",
      "    buf = self._recv_bytes(maxlength)\n",
      "  File \"/home/oswald/anaconda3/lib/python3.8/multiprocessing/queues.py\", line 355, in get\n",
      "    with self._rlock:\n",
      "  File \"/home/oswald/anaconda3/lib/python3.8/multiprocessing/pool.py\", line 114, in worker\n",
      "    task = get()\n",
      "  File \"/home/oswald/anaconda3/lib/python3.8/multiprocessing/pool.py\", line 114, in worker\n",
      "    task = get()\n",
      "  File \"/home/oswald/anaconda3/lib/python3.8/multiprocessing/synchronize.py\", line 95, in __enter__\n",
      "    return self._semlock.__enter__()\n",
      "  File \"/home/oswald/anaconda3/lib/python3.8/multiprocessing/queues.py\", line 355, in get\n",
      "    with self._rlock:\n",
      "  File \"/home/oswald/anaconda3/lib/python3.8/multiprocessing/queues.py\", line 355, in get\n",
      "    with self._rlock:\n",
      "  File \"/home/oswald/anaconda3/lib/python3.8/multiprocessing/synchronize.py\", line 95, in __enter__\n",
      "    return self._semlock.__enter__()\n",
      "  File \"/home/oswald/anaconda3/lib/python3.8/multiprocessing/pool.py\", line 114, in worker\n",
      "    task = get()\n",
      "  File \"/home/oswald/anaconda3/lib/python3.8/multiprocessing/queues.py\", line 355, in get\n",
      "    with self._rlock:\n",
      "KeyboardInterrupt\n",
      "  File \"/home/oswald/anaconda3/lib/python3.8/multiprocessing/connection.py\", line 414, in _recv_bytes\n",
      "    buf = self._recv(4)\n",
      "  File \"/home/oswald/anaconda3/lib/python3.8/multiprocessing/synchronize.py\", line 95, in __enter__\n",
      "    return self._semlock.__enter__()\n",
      "KeyboardInterrupt\n",
      "KeyboardInterrupt\n",
      "KeyboardInterrupt\n",
      "  File \"/home/oswald/anaconda3/lib/python3.8/multiprocessing/connection.py\", line 379, in _recv\n",
      "    chunk = read(handle, remaining)\n",
      "  File \"/home/oswald/anaconda3/lib/python3.8/multiprocessing/synchronize.py\", line 95, in __enter__\n",
      "    return self._semlock.__enter__()\n",
      "  File \"/home/oswald/anaconda3/lib/python3.8/multiprocessing/synchronize.py\", line 95, in __enter__\n",
      "    return self._semlock.__enter__()\n",
      "KeyboardInterrupt\n",
      "KeyboardInterrupt\n",
      "KeyboardInterrupt\n"
     ]
    }
   ],
   "source": [
    "def myfunc(x,y):\n",
    "    return 2*x+y\n",
    "pool = mp.Pool(mp.cpu_count())\n",
    "result = pool.starmap(myfunc,[(1,3),(2,2),(3,1)])\n",
    "print(result)\n"
   ]
  },
  {
   "cell_type": "code",
   "execution_count": 10,
   "metadata": {
    "ExecuteTime": {
     "end_time": "2021-02-09T23:07:23.053136Z",
     "start_time": "2021-02-09T23:07:23.048997Z"
    }
   },
   "outputs": [],
   "source": [
    "from itertools import product"
   ]
  },
  {
   "cell_type": "code",
   "execution_count": 11,
   "metadata": {
    "ExecuteTime": {
     "end_time": "2021-02-09T23:07:23.063541Z",
     "start_time": "2021-02-09T23:07:23.054884Z"
    }
   },
   "outputs": [
    {
     "data": {
      "text/plain": [
       "[(1, 3), (2, 3)]"
      ]
     },
     "execution_count": 11,
     "metadata": {},
     "output_type": "execute_result"
    }
   ],
   "source": [
    "list(product([1,2],[3]))"
   ]
  },
  {
   "cell_type": "code",
   "execution_count": null,
   "metadata": {},
   "outputs": [],
   "source": []
  }
 ],
 "metadata": {
  "hide_input": false,
  "kernelspec": {
   "display_name": "Python 3",
   "language": "python",
   "name": "python3"
  },
  "language_info": {
   "codemirror_mode": {
    "name": "ipython",
    "version": 3
   },
   "file_extension": ".py",
   "mimetype": "text/x-python",
   "name": "python",
   "nbconvert_exporter": "python",
   "pygments_lexer": "ipython3",
   "version": "3.8.3"
  },
  "varInspector": {
   "cols": {
    "lenName": 16,
    "lenType": 16,
    "lenVar": 40
   },
   "kernels_config": {
    "python": {
     "delete_cmd_postfix": "",
     "delete_cmd_prefix": "del ",
     "library": "var_list.py",
     "varRefreshCmd": "print(var_dic_list())"
    },
    "r": {
     "delete_cmd_postfix": ") ",
     "delete_cmd_prefix": "rm(",
     "library": "var_list.r",
     "varRefreshCmd": "cat(var_dic_list()) "
    }
   },
   "types_to_exclude": [
    "module",
    "function",
    "builtin_function_or_method",
    "instance",
    "_Feature"
   ],
   "window_display": false
  }
 },
 "nbformat": 4,
 "nbformat_minor": 4
}
